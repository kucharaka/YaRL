{
  "cells": [
    {
      "cell_type": "markdown",
      "metadata": {
        "id": "I_i1q1TWG9zH"
      },
      "source": [
        "# Deep Crossentropy method\n",
        "\n",
        "In this section we'll extend your CEM implementation with neural networks! You will train a multi-layer neural network to solve simple continuous state space games. __Please make sure you're done with tabular crossentropy method from the previous notebook.__\n",
        "\n",
        "![img](https://watanimg.elwatannews.com/old_news_images/large/249765_Large_20140709045740_11.jpg)\n",
        "\n"
      ]
    },
    {
      "cell_type": "code",
      "execution_count": 1,
      "metadata": {
        "id": "t4CJ1sRyG9zJ",
        "outputId": "477b9db0-2bd6-467e-e416-65502d0c7c15",
        "colab": {
          "base_uri": "https://localhost:8080/"
        }
      },
      "outputs": [
        {
          "output_type": "stream",
          "name": "stdout",
          "text": [
            "W: Skipping acquire of configured file 'main/source/Sources' as repository 'https://r2u.stat.illinois.edu/ubuntu jammy InRelease' does not seem to provide it (sources.list entry misspelt?)\n",
            "Starting virtual X frame buffer: Xvfb.\n"
          ]
        }
      ],
      "source": [
        "import sys, os\n",
        "if 'google.colab' in sys.modules and not os.path.exists('.setup_complete'):\n",
        "    !wget -q https://raw.githubusercontent.com/yandexdataschool/Practical_RL/master/setup_colab.sh -O- | bash\n",
        "    !touch .setup_complete\n",
        "\n",
        "# This code creates a virtual display to draw game images on.\n",
        "# It will have no effect if your machine has a monitor.\n",
        "if type(os.environ.get(\"DISPLAY\")) is not str or len(os.environ.get(\"DISPLAY\")) == 0:\n",
        "    !bash ../xvfb start\n",
        "    os.environ['DISPLAY'] = ':1'"
      ]
    },
    {
      "cell_type": "code",
      "execution_count": 2,
      "metadata": {
        "id": "C2xd5vPwPVCb",
        "outputId": "c9035e79-2df5-49e9-b1f7-fa978fe7bc13",
        "colab": {
          "base_uri": "https://localhost:8080/"
        }
      },
      "outputs": [
        {
          "output_type": "stream",
          "name": "stdout",
          "text": [
            "Requirement already satisfied: gymnasium[classic_control,toy_text] in /usr/local/lib/python3.11/dist-packages (1.2.0)\n",
            "Requirement already satisfied: numpy>=1.21.0 in /usr/local/lib/python3.11/dist-packages (from gymnasium[classic_control,toy_text]) (2.0.2)\n",
            "Requirement already satisfied: cloudpickle>=1.2.0 in /usr/local/lib/python3.11/dist-packages (from gymnasium[classic_control,toy_text]) (3.1.1)\n",
            "Requirement already satisfied: typing-extensions>=4.3.0 in /usr/local/lib/python3.11/dist-packages (from gymnasium[classic_control,toy_text]) (4.14.1)\n",
            "Requirement already satisfied: farama-notifications>=0.0.1 in /usr/local/lib/python3.11/dist-packages (from gymnasium[classic_control,toy_text]) (0.0.4)\n",
            "Requirement already satisfied: pygame>=2.1.3 in /usr/local/lib/python3.11/dist-packages (from gymnasium[classic_control,toy_text]) (2.6.1)\n"
          ]
        }
      ],
      "source": [
        "# Install gymnasium if you didn't\n",
        "!pip install \"gymnasium[toy_text,classic_control]\""
      ]
    },
    {
      "cell_type": "code",
      "execution_count": 3,
      "metadata": {
        "id": "_2zbc7ahG9zK",
        "outputId": "87038a94-25bc-4775-b7e8-52e542c9a1b0",
        "colab": {
          "base_uri": "https://localhost:8080/",
          "height": 484
        }
      },
      "outputs": [
        {
          "output_type": "stream",
          "name": "stderr",
          "text": [
            "/usr/local/lib/python3.11/dist-packages/gymnasium/envs/registration.py:512: DeprecationWarning: \u001b[33mWARN: The environment CartPole-v0 is out of date. You should consider upgrading to version `v1`.\u001b[0m\n",
            "  logger.deprecation(\n"
          ]
        },
        {
          "output_type": "stream",
          "name": "stdout",
          "text": [
            "state vector dim = 4\n",
            "n_actions = 2\n"
          ]
        },
        {
          "output_type": "display_data",
          "data": {
            "text/plain": [
              "<Figure size 640x480 with 1 Axes>"
            ],
            "image/png": "[encoded data removed]"
          },
          "metadata": {}
        }
      ],
      "source": [
        "import gymnasium as gym\n",
        "import numpy as np\n",
        "import matplotlib.pyplot as plt\n",
        "%matplotlib inline\n",
        "\n",
        "# if you see \"<classname> has no attribute .env\", remove .env or update gym\n",
        "env = gym.make(\"CartPole-v0\", render_mode=\"rgb_array\").env\n",
        "\n",
        "env.reset()\n",
        "n_actions = env.action_space.n\n",
        "state_dim = env.observation_space.shape[0]\n",
        "\n",
        "plt.imshow(env.render())\n",
        "print(\"state vector dim =\", state_dim)\n",
        "print(\"n_actions =\", n_actions)\n",
        "\n",
        "env.close()"
      ]
    },
    {
      "cell_type": "markdown",
      "metadata": {
        "id": "Z72_alhdG9zK"
      },
      "source": [
        "# Neural Network Policy\n",
        "\n",
        "For this assignment we'll utilize the simplified neural network implementation from __[Scikit-learn](https://scikit-learn.org/stable/modules/generated/sklearn.neural_network.MLPClassifier.html)__. Here's what you'll need:\n",
        "\n",
        "* `agent.partial_fit(states, actions)` - make a single training pass over the data. Maximize the probability of :actions: from :states:\n",
        "* `agent.predict_proba(states)` - predict probabilities of all actions, a matrix of shape __[len(states), n_actions]__\n"
      ]
    },
    {
      "cell_type": "code",
      "execution_count": 4,
      "metadata": {
        "id": "wLItY4unG9zL",
        "outputId": "8a3fb205-b84e-4e8e-f4d2-bc991f8bfd5a",
        "colab": {
          "base_uri": "https://localhost:8080/",
          "height": 80
        }
      },
      "outputs": [
        {
          "output_type": "execute_result",
          "data": {
            "text/plain": [
              "MLPClassifier(activation='tanh', hidden_layer_sizes=(20, 20))"
            ],
            "text/html": [
              "<style>#sk-container-id-1 {\n",
              "  /* Definition of color scheme common for light and dark mode */\n",
              "  --sklearn-color-text: #000;\n",
              "  --sklearn-color-text-muted: #666;\n",
              "  --sklearn-color-line: gray;\n",
              "  /* Definition of color scheme for unfitted estimators */\n",
              "  --sklearn-color-unfitted-level-0: #fff5e6;\n",
              "  --sklearn-color-unfitted-level-1: #f6e4d2;\n",
              "  --sklearn-color-unfitted-level-2: #ffe0b3;\n",
              "  --sklearn-color-unfitted-level-3: chocolate;\n",
              "  /* Definition of color scheme for fitted estimators */\n",
              "  --sklearn-color-fitted-level-0: #f0f8ff;\n",
              "  --sklearn-color-fitted-level-1: #d4ebff;\n",
              "  --sklearn-color-fitted-level-2: #b3dbfd;\n",
              "  --sklearn-color-fitted-level-3: cornflowerblue;\n",
              "\n",
              "  /* Specific color for light theme */\n",
              "  --sklearn-color-text-on-default-background: var(--sg-text-color, var(--theme-code-foreground, var(--jp-content-font-color1, black)));\n",
              "  --sklearn-color-background: var(--sg-background-color, var(--theme-background, var(--jp-layout-color0, white)));\n",
              "  --sklearn-color-border-box: var(--sg-text-color, var(--theme-code-foreground, var(--jp-content-font-color1, black)));\n",
              "  --sklearn-color-icon: #696969;\n",
              "\n",
              "  @media (prefers-color-scheme: dark) {\n",
              "    /* Redefinition of color scheme for dark theme */\n",
              "    --sklearn-color-text-on-default-background: var(--sg-text-color, var(--theme-code-foreground, var(--jp-content-font-color1, white)));\n",
              "    --sklearn-color-background: var(--sg-background-color, var(--theme-background, var(--jp-layout-color0, #111)));\n",
              "    --sklearn-color-border-box: var(--sg-text-color, var(--theme-code-foreground, var(--jp-content-font-color1, white)));\n",
              "    --sklearn-color-icon: #878787;\n",
              "  }\n",
              "}\n",
              "\n",
              "#sk-container-id-1 {\n",
              "  color: var(--sklearn-color-text);\n",
              "}\n",
              "\n",
              "#sk-container-id-1 pre {\n",
              "  padding: 0;\n",
              "}\n",
              "\n",
              "#sk-container-id-1 input.sk-hidden--visually {\n",
              "  border: 0;\n",
              "  clip: rect(1px 1px 1px 1px);\n",
              "  clip: rect(1px, 1px, 1px, 1px);\n",
              "  height: 1px;\n",
              "  margin: -1px;\n",
              "  overflow: hidden;\n",
              "  padding: 0;\n",
              "  position: absolute;\n",
              "  width: 1px;\n",
              "}\n",
              "\n",
              "#sk-container-id-1 div.sk-dashed-wrapped {\n",
              "  border: 1px dashed var(--sklearn-color-line);\n",
              "  margin: 0 0.4em 0.5em 0.4em;\n",
              "  box-sizing: border-box;\n",
              "  padding-bottom: 0.4em;\n",
              "  background-color: var(--sklearn-color-background);\n",
              "}\n",
              "\n",
              "#sk-container-id-1 div.sk-container {\n",
              "  /* jupyter's `normalize.less` sets `[hidden] { display: none; }`\n",
              "     but bootstrap.min.css set `[hidden] { display: none !important; }`\n",
              "     so we also need the `!important` here to be able to override the\n",
              "     default hidden behavior on the sphinx rendered scikit-learn.org.\n",
              "     See: https://github.com/scikit-learn/scikit-learn/issues/21755 */\n",
              "  display: inline-block !important;\n",
              "  position: relative;\n",
              "}\n",
              "\n",
              "#sk-container-id-1 div.sk-text-repr-fallback {\n",
              "  display: none;\n",
              "}\n",
              "\n",
              "div.sk-parallel-item,\n",
              "div.sk-serial,\n",
              "div.sk-item {\n",
              "  /* draw centered vertical line to link estimators */\n",
              "  background-image: linear-gradient(var(--sklearn-color-text-on-default-background), var(--sklearn-color-text-on-default-background));\n",
              "  background-size: 2px 100%;\n",
              "  background-repeat: no-repeat;\n",
              "  background-position: center center;\n",
              "}\n",
              "\n",
              "/* Parallel-specific style estimator block */\n",
              "\n",
              "#sk-container-id-1 div.sk-parallel-item::after {\n",
              "  content: \"\";\n",
              "  width: 100%;\n",
              "  border-bottom: 2px solid var(--sklearn-color-text-on-default-background);\n",
              "  flex-grow: 1;\n",
              "}\n",
              "\n",
              "#sk-container-id-1 div.sk-parallel {\n",
              "  display: flex;\n",
              "  align-items: stretch;\n",
              "  justify-content: center;\n",
              "  background-color: var(--sklearn-color-background);\n",
              "  position: relative;\n",
              "}\n",
              "\n",
              "#sk-container-id-1 div.sk-parallel-item {\n",
              "  display: flex;\n",
              "  flex-direction: column;\n",
              "}\n",
              "\n",
              "#sk-container-id-1 div.sk-parallel-item:first-child::after {\n",
              "  align-self: flex-end;\n",
              "  width: 50%;\n",
              "}\n",
              "\n",
              "#sk-container-id-1 div.sk-parallel-item:last-child::after {\n",
              "  align-self: flex-start;\n",
              "  width: 50%;\n",
              "}\n",
              "\n",
              "#sk-container-id-1 div.sk-parallel-item:only-child::after {\n",
              "  width: 0;\n",
              "}\n",
              "\n",
              "/* Serial-specific style estimator block */\n",
              "\n",
              "#sk-container-id-1 div.sk-serial {\n",
              "  display: flex;\n",
              "  flex-direction: column;\n",
              "  align-items: center;\n",
              "  background-color: var(--sklearn-color-background);\n",
              "  padding-right: 1em;\n",
              "  padding-left: 1em;\n",
              "}\n",
              "\n",
              "\n",
              "/* Toggleable style: style used for estimator/Pipeline/ColumnTransformer box that is\n",
              "clickable and can be expanded/collapsed.\n",
              "- Pipeline and ColumnTransformer use this feature and define the default style\n",
              "- Estimators will overwrite some part of the style using the `sk-estimator` class\n",
              "*/\n",
              "\n",
              "/* Pipeline and ColumnTransformer style (default) */\n",
              "\n",
              "#sk-container-id-1 div.sk-toggleable {\n",
              "  /* Default theme specific background. It is overwritten whether we have a\n",
              "  specific estimator or a Pipeline/ColumnTransformer */\n",
              "  background-color: var(--sklearn-color-background);\n",
              "}\n",
              "\n",
              "/* Toggleable label */\n",
              "#sk-container-id-1 label.sk-toggleable__label {\n",
              "  cursor: pointer;\n",
              "  display: flex;\n",
              "  width: 100%;\n",
              "  margin-bottom: 0;\n",
              "  padding: 0.5em;\n",
              "  box-sizing: border-box;\n",
              "  text-align: center;\n",
              "  align-items: start;\n",
              "  justify-content: space-between;\n",
              "  gap: 0.5em;\n",
              "}\n",
              "\n",
              "#sk-container-id-1 label.sk-toggleable__label .caption {\n",
              "  font-size: 0.6rem;\n",
              "  font-weight: lighter;\n",
              "  color: var(--sklearn-color-text-muted);\n",
              "}\n",
              "\n",
              "#sk-container-id-1 label.sk-toggleable__label-arrow:before {\n",
              "  /* Arrow on the left of the label */\n",
              "  content: \"▸\";\n",
              "  float: left;\n",
              "  margin-right: 0.25em;\n",
              "  color: var(--sklearn-color-icon);\n",
              "}\n",
              "\n",
              "#sk-container-id-1 label.sk-toggleable__label-arrow:hover:before {\n",
              "  color: var(--sklearn-color-text);\n",
              "}\n",
              "\n",
              "/* Toggleable content - dropdown */\n",
              "\n",
              "#sk-container-id-1 div.sk-toggleable__content {\n",
              "  max-height: 0;\n",
              "  max-width: 0;\n",
              "  overflow: hidden;\n",
              "  text-align: left;\n",
              "  /* unfitted */\n",
              "  background-color: var(--sklearn-color-unfitted-level-0);\n",
              "}\n",
              "\n",
              "#sk-container-id-1 div.sk-toggleable__content.fitted {\n",
              "  /* fitted */\n",
              "  background-color: var(--sklearn-color-fitted-level-0);\n",
              "}\n",
              "\n",
              "#sk-container-id-1 div.sk-toggleable__content pre {\n",
              "  margin: 0.2em;\n",
              "  border-radius: 0.25em;\n",
              "  color: var(--sklearn-color-text);\n",
              "  /* unfitted */\n",
              "  background-color: var(--sklearn-color-unfitted-level-0);\n",
              "}\n",
              "\n",
              "#sk-container-id-1 div.sk-toggleable__content.fitted pre {\n",
              "  /* unfitted */\n",
              "  background-color: var(--sklearn-color-fitted-level-0);\n",
              "}\n",
              "\n",
              "#sk-container-id-1 input.sk-toggleable__control:checked~div.sk-toggleable__content {\n",
              "  /* Expand drop-down */\n",
              "  max-height: 200px;\n",
              "  max-width: 100%;\n",
              "  overflow: auto;\n",
              "}\n",
              "\n",
              "#sk-container-id-1 input.sk-toggleable__control:checked~label.sk-toggleable__label-arrow:before {\n",
              "  content: \"▾\";\n",
              "}\n",
              "\n",
              "/* Pipeline/ColumnTransformer-specific style */\n",
              "\n",
              "#sk-container-id-1 div.sk-label input.sk-toggleable__control:checked~label.sk-toggleable__label {\n",
              "  color: var(--sklearn-color-text);\n",
              "  background-color: var(--sklearn-color-unfitted-level-2);\n",
              "}\n",
              "\n",
              "#sk-container-id-1 div.sk-label.fitted input.sk-toggleable__control:checked~label.sk-toggleable__label {\n",
              "  background-color: var(--sklearn-color-fitted-level-2);\n",
              "}\n",
              "\n",
              "/* Estimator-specific style */\n",
              "\n",
              "/* Colorize estimator box */\n",
              "#sk-container-id-1 div.sk-estimator input.sk-toggleable__control:checked~label.sk-toggleable__label {\n",
              "  /* unfitted */\n",
              "  background-color: var(--sklearn-color-unfitted-level-2);\n",
              "}\n",
              "\n",
              "#sk-container-id-1 div.sk-estimator.fitted input.sk-toggleable__control:checked~label.sk-toggleable__label {\n",
              "  /* fitted */\n",
              "  background-color: var(--sklearn-color-fitted-level-2);\n",
              "}\n",
              "\n",
              "#sk-container-id-1 div.sk-label label.sk-toggleable__label,\n",
              "#sk-container-id-1 div.sk-label label {\n",
              "  /* The background is the default theme color */\n",
              "  color: var(--sklearn-color-text-on-default-background);\n",
              "}\n",
              "\n",
              "/* On hover, darken the color of the background */\n",
              "#sk-container-id-1 div.sk-label:hover label.sk-toggleable__label {\n",
              "  color: var(--sklearn-color-text);\n",
              "  background-color: var(--sklearn-color-unfitted-level-2);\n",
              "}\n",
              "\n",
              "/* Label box, darken color on hover, fitted */\n",
              "#sk-container-id-1 div.sk-label.fitted:hover label.sk-toggleable__label.fitted {\n",
              "  color: var(--sklearn-color-text);\n",
              "  background-color: var(--sklearn-color-fitted-level-2);\n",
              "}\n",
              "\n",
              "/* Estimator label */\n",
              "\n",
              "#sk-container-id-1 div.sk-label label {\n",
              "  font-family: monospace;\n",
              "  font-weight: bold;\n",
              "  display: inline-block;\n",
              "  line-height: 1.2em;\n",
              "}\n",
              "\n",
              "#sk-container-id-1 div.sk-label-container {\n",
              "  text-align: center;\n",
              "}\n",
              "\n",
              "/* Estimator-specific */\n",
              "#sk-container-id-1 div.sk-estimator {\n",
              "  font-family: monospace;\n",
              "  border: 1px dotted var(--sklearn-color-border-box);\n",
              "  border-radius: 0.25em;\n",
              "  box-sizing: border-box;\n",
              "  margin-bottom: 0.5em;\n",
              "  /* unfitted */\n",
              "  background-color: var(--sklearn-color-unfitted-level-0);\n",
              "}\n",
              "\n",
              "#sk-container-id-1 div.sk-estimator.fitted {\n",
              "  /* fitted */\n",
              "  background-color: var(--sklearn-color-fitted-level-0);\n",
              "}\n",
              "\n",
              "/* on hover */\n",
              "#sk-container-id-1 div.sk-estimator:hover {\n",
              "  /* unfitted */\n",
              "  background-color: var(--sklearn-color-unfitted-level-2);\n",
              "}\n",
              "\n",
              "#sk-container-id-1 div.sk-estimator.fitted:hover {\n",
              "  /* fitted */\n",
              "  background-color: var(--sklearn-color-fitted-level-2);\n",
              "}\n",
              "\n",
              "/* Specification for estimator info (e.g. \"i\" and \"?\") */\n",
              "\n",
              "/* Common style for \"i\" and \"?\" */\n",
              "\n",
              ".sk-estimator-doc-link,\n",
              "a:link.sk-estimator-doc-link,\n",
              "a:visited.sk-estimator-doc-link {\n",
              "  float: right;\n",
              "  font-size: smaller;\n",
              "  line-height: 1em;\n",
              "  font-family: monospace;\n",
              "  background-color: var(--sklearn-color-background);\n",
              "  border-radius: 1em;\n",
              "  height: 1em;\n",
              "  width: 1em;\n",
              "  text-decoration: none !important;\n",
              "  margin-left: 0.5em;\n",
              "  text-align: center;\n",
              "  /* unfitted */\n",
              "  border: var(--sklearn-color-unfitted-level-1) 1pt solid;\n",
              "  color: var(--sklearn-color-unfitted-level-1);\n",
              "}\n",
              "\n",
              ".sk-estimator-doc-link.fitted,\n",
              "a:link.sk-estimator-doc-link.fitted,\n",
              "a:visited.sk-estimator-doc-link.fitted {\n",
              "  /* fitted */\n",
              "  border: var(--sklearn-color-fitted-level-1) 1pt solid;\n",
              "  color: var(--sklearn-color-fitted-level-1);\n",
              "}\n",
              "\n",
              "/* On hover */\n",
              "div.sk-estimator:hover .sk-estimator-doc-link:hover,\n",
              ".sk-estimator-doc-link:hover,\n",
              "div.sk-label-container:hover .sk-estimator-doc-link:hover,\n",
              ".sk-estimator-doc-link:hover {\n",
              "  /* unfitted */\n",
              "  background-color: var(--sklearn-color-unfitted-level-3);\n",
              "  color: var(--sklearn-color-background);\n",
              "  text-decoration: none;\n",
              "}\n",
              "\n",
              "div.sk-estimator.fitted:hover .sk-estimator-doc-link.fitted:hover,\n",
              ".sk-estimator-doc-link.fitted:hover,\n",
              "div.sk-label-container:hover .sk-estimator-doc-link.fitted:hover,\n",
              ".sk-estimator-doc-link.fitted:hover {\n",
              "  /* fitted */\n",
              "  background-color: var(--sklearn-color-fitted-level-3);\n",
              "  color: var(--sklearn-color-background);\n",
              "  text-decoration: none;\n",
              "}\n",
              "\n",
              "/* Span, style for the box shown on hovering the info icon */\n",
              ".sk-estimator-doc-link span {\n",
              "  display: none;\n",
              "  z-index: 9999;\n",
              "  position: relative;\n",
              "  font-weight: normal;\n",
              "  right: .2ex;\n",
              "  padding: .5ex;\n",
              "  margin: .5ex;\n",
              "  width: min-content;\n",
              "  min-width: 20ex;\n",
              "  max-width: 50ex;\n",
              "  color: var(--sklearn-color-text);\n",
              "  box-shadow: 2pt 2pt 4pt #999;\n",
              "  /* unfitted */\n",
              "  background: var(--sklearn-color-unfitted-level-0);\n",
              "  border: .5pt solid var(--sklearn-color-unfitted-level-3);\n",
              "}\n",
              "\n",
              ".sk-estimator-doc-link.fitted span {\n",
              "  /* fitted */\n",
              "  background: var(--sklearn-color-fitted-level-0);\n",
              "  border: var(--sklearn-color-fitted-level-3);\n",
              "}\n",
              "\n",
              ".sk-estimator-doc-link:hover span {\n",
              "  display: block;\n",
              "}\n",
              "\n",
              "/* \"?\"-specific style due to the `<a>` HTML tag */\n",
              "\n",
              "#sk-container-id-1 a.estimator_doc_link {\n",
              "  float: right;\n",
              "  font-size: 1rem;\n",
              "  line-height: 1em;\n",
              "  font-family: monospace;\n",
              "  background-color: var(--sklearn-color-background);\n",
              "  border-radius: 1rem;\n",
              "  height: 1rem;\n",
              "  width: 1rem;\n",
              "  text-decoration: none;\n",
              "  /* unfitted */\n",
              "  color: var(--sklearn-color-unfitted-level-1);\n",
              "  border: var(--sklearn-color-unfitted-level-1) 1pt solid;\n",
              "}\n",
              "\n",
              "#sk-container-id-1 a.estimator_doc_link.fitted {\n",
              "  /* fitted */\n",
              "  border: var(--sklearn-color-fitted-level-1) 1pt solid;\n",
              "  color: var(--sklearn-color-fitted-level-1);\n",
              "}\n",
              "\n",
              "/* On hover */\n",
              "#sk-container-id-1 a.estimator_doc_link:hover {\n",
              "  /* unfitted */\n",
              "  background-color: var(--sklearn-color-unfitted-level-3);\n",
              "  color: var(--sklearn-color-background);\n",
              "  text-decoration: none;\n",
              "}\n",
              "\n",
              "#sk-container-id-1 a.estimator_doc_link.fitted:hover {\n",
              "  /* fitted */\n",
              "  background-color: var(--sklearn-color-fitted-level-3);\n",
              "}\n",
              "</style><div id=\"sk-container-id-1\" class=\"sk-top-container\"><div class=\"sk-text-repr-fallback\"><pre>MLPClassifier(activation=&#x27;tanh&#x27;, hidden_layer_sizes=(20, 20))</pre><b>In a Jupyter environment, please rerun this cell to show the HTML representation or trust the notebook. <br />On GitHub, the HTML representation is unable to render, please try loading this page with nbviewer.org.</b></div><div class=\"sk-container\" hidden><div class=\"sk-item\"><div class=\"sk-estimator fitted sk-toggleable\"><input class=\"sk-toggleable__control sk-hidden--visually\" id=\"sk-estimator-id-1\" type=\"checkbox\" checked><label for=\"sk-estimator-id-1\" class=\"sk-toggleable__label fitted sk-toggleable__label-arrow\"><div><div>MLPClassifier</div></div><div><a class=\"sk-estimator-doc-link fitted\" rel=\"noreferrer\" target=\"_blank\" href=\"https://scikit-learn.org/1.6/modules/generated/sklearn.neural_network.MLPClassifier.html\">?<span>Documentation for MLPClassifier</span></a><span class=\"sk-estimator-doc-link fitted\">i<span>Fitted</span></span></div></label><div class=\"sk-toggleable__content fitted\"><pre>MLPClassifier(activation=&#x27;tanh&#x27;, hidden_layer_sizes=(20, 20))</pre></div> </div></div></div></div>"
            ]
          },
          "metadata": {},
          "execution_count": 4
        }
      ],
      "source": [
        "from sklearn.neural_network import MLPClassifier\n",
        "\n",
        "agent = MLPClassifier(\n",
        "    hidden_layer_sizes=(20, 20),\n",
        "    activation=\"tanh\",\n",
        ")\n",
        "\n",
        "# initialize agent to the dimension of state space and number of actions\n",
        "agent.partial_fit([env.reset()[0]] * n_actions, range(n_actions), range(n_actions))\n"
      ]
    },
    {
      "cell_type": "code",
      "execution_count": 9,
      "metadata": {
        "id": "eyFS3oUmG9zL"
      },
      "outputs": [],
      "source": [
        "def generate_session(env, agent, t_max=1000):\n",
        "    \"\"\"\n",
        "    Play a single game using agent neural network.\n",
        "    Terminate when game finishes or after :t_max: steps\n",
        "    \"\"\"\n",
        "    states, actions = [], []\n",
        "    total_reward = 0\n",
        "\n",
        "    s, _ = env.reset()\n",
        "\n",
        "    for t in range(t_max):\n",
        "\n",
        "        # use agent to predict a vector of action probabilities for state :s:\n",
        "        probs = agent.predict_proba(s.reshape(1, -1))[0]\n",
        "\n",
        "        assert probs.shape == (env.action_space.n,), \"make sure probabilities are a vector (hint: np.reshape)\"\n",
        "\n",
        "        # use the probabilities you predicted to pick an action\n",
        "        # sample proportionally to the probabilities, don't just take the most likely action\n",
        "        a = np.random.choice(n_actions, p=probs)\n",
        "        # ^-- hint: try np.random.choice\n",
        "\n",
        "        new_s, r, terminated, truncated, _ = env.step(a)\n",
        "\n",
        "        # record sessions like you did before\n",
        "        states.append(s)\n",
        "        actions.append(a)\n",
        "        total_reward += r\n",
        "\n",
        "        s = new_s\n",
        "        if terminated or truncated:\n",
        "            break\n",
        "    return states, actions, total_reward\n"
      ]
    },
    {
      "cell_type": "code",
      "execution_count": 10,
      "metadata": {
        "id": "4xgrTCgJG9zL",
        "outputId": "682d8869-17d6-4111-dda7-c4ec8f806a97",
        "colab": {
          "base_uri": "https://localhost:8080/"
        }
      },
      "outputs": [
        {
          "output_type": "stream",
          "name": "stdout",
          "text": [
            "states: [[ 3.5049237e-02 -2.0016840e-04 -2.0358307e-02 -4.0588181e-02]\n",
            " [ 3.5045233e-02  1.9520772e-01 -2.1170070e-02 -3.3962420e-01]\n",
            " [ 3.8949389e-02  3.9062440e-01 -2.7962554e-02 -6.3890707e-01]\n",
            " [ 4.6761874e-02  1.9590326e-01 -4.0740695e-02 -3.5515946e-01]\n",
            " [ 5.0679941e-02  3.9158008e-01 -4.7843885e-02 -6.6040558e-01]]\n",
            "actions: [1, 1, 0, 1, 0]\n",
            "reward: 5.0\n"
          ]
        }
      ],
      "source": [
        "dummy_states, dummy_actions, dummy_reward = generate_session(env, agent, t_max=5)\n",
        "print(\"states:\", np.stack(dummy_states))\n",
        "print(\"actions:\", dummy_actions)\n",
        "print(\"reward:\", dummy_reward)\n"
      ]
    },
    {
      "cell_type": "markdown",
      "metadata": {
        "id": "p85lt16qG9zL"
      },
      "source": [
        "### CEM steps\n",
        "Deep CEM uses exactly the same strategy as the regular CEM, so you can copy your function code from previous notebook.\n",
        "\n",
        "The only difference is that now each observation is not a number but a `float32` vector."
      ]
    },
    {
      "cell_type": "code",
      "execution_count": 11,
      "metadata": {
        "id": "4On-p7p4G9zL"
      },
      "outputs": [],
      "source": [
        "def select_elites(states_batch, actions_batch, rewards_batch, percentile=50):\n",
        "    \"\"\"\n",
        "    Select states and actions from games that have rewards >= percentile\n",
        "    :param states_batch: list of lists of states, states_batch[session_i][t]\n",
        "    :param actions_batch: list of lists of actions, actions_batch[session_i][t]\n",
        "    :param rewards_batch: list of rewards, rewards_batch[session_i]\n",
        "\n",
        "    :returns: elite_states,elite_actions, both 1D lists of states and respective actions from elite sessions\n",
        "\n",
        "    Please return elite states and actions in their original order\n",
        "    [i.e. sorted by session number and timestep within session]\n",
        "\n",
        "    If you are confused, see examples below. Please don't assume that states are integers\n",
        "    (they will become different later).\n",
        "    \"\"\"\n",
        "\n",
        "\n",
        "\n",
        "    elite_states = []\n",
        "    elite_actions = []\n",
        "\n",
        "    reward_threshold = np.percentile(rewards_batch, percentile)\n",
        "\n",
        "    for i, r in enumerate(rewards_batch):\n",
        "        if r >= reward_threshold:\n",
        "            elite_states.extend(states_batch[i])\n",
        "            elite_actions.extend(actions_batch[i])\n",
        "\n",
        "    return elite_states, elite_actions\n",
        "\n",
        "\n"
      ]
    },
    {
      "cell_type": "markdown",
      "metadata": {
        "id": "xc40V4DaG9zM"
      },
      "source": [
        "# Training loop\n",
        "Generate sessions, select N best and fit to those."
      ]
    },
    {
      "cell_type": "code",
      "execution_count": 12,
      "metadata": {
        "id": "PPwVKwF7G9zM"
      },
      "outputs": [],
      "source": [
        "from IPython.display import clear_output\n",
        "\n",
        "\n",
        "def show_progress(rewards_batch, log, percentile, reward_range=[-990, +10]):\n",
        "    \"\"\"\n",
        "    A convenience function that displays training progress.\n",
        "    No cool math here, just charts.\n",
        "    \"\"\"\n",
        "\n",
        "    mean_reward = np.mean(rewards_batch)\n",
        "    threshold = np.percentile(rewards_batch, percentile)\n",
        "    log.append([mean_reward, threshold])\n",
        "\n",
        "    clear_output(True)\n",
        "    print(\"mean reward = %.3f, threshold=%.3f\" % (mean_reward, threshold))\n",
        "    plt.figure(figsize=[8, 4])\n",
        "    plt.subplot(1, 2, 1)\n",
        "    plt.plot(list(zip(*log))[0], label=\"Mean rewards\")\n",
        "    plt.plot(list(zip(*log))[1], label=\"Reward thresholds\")\n",
        "    plt.legend()\n",
        "    plt.grid()\n",
        "\n",
        "    plt.subplot(1, 2, 2)\n",
        "    plt.hist(rewards_batch, range=reward_range)\n",
        "    plt.vlines(\n",
        "        [np.percentile(rewards_batch, percentile)],\n",
        "        [0],\n",
        "        [100],\n",
        "        label=\"percentile\",\n",
        "        color=\"red\",\n",
        "    )\n",
        "    plt.legend()\n",
        "    plt.grid()\n",
        "\n",
        "    plt.show()\n"
      ]
    },
    {
      "cell_type": "code",
      "execution_count": 15,
      "metadata": {
        "id": "euK7WRQiG9zM",
        "outputId": "17df9f33-e03e-4b8b-c535-7f8ab9af86e3",
        "colab": {
          "base_uri": "https://localhost:8080/",
          "height": 752
        }
      },
      "outputs": [
        {
          "output_type": "stream",
          "name": "stdout",
          "text": [
            "mean reward = 215.090, threshold=227.500\n"
          ]
        },
        {
          "output_type": "display_data",
          "data": {
            "text/plain": [
              "<Figure size 800x400 with 2 Axes>"
            ],
            "image/png": "[encoded data removed]"
          },
          "metadata": {}
        },
        {
          "output_type": "stream",
          "name": "stdout",
          "text": [
            "You Win! You may stop training now via KeyboardInterrupt.\n"
          ]
        },
        {
          "output_type": "error",
          "ename": "KeyboardInterrupt",
          "evalue": "",
          "traceback": [
            "\u001b[0;31m---------------------------------------------------------------------------\u001b[0m",
            "\u001b[0;31mKeyboardInterrupt\u001b[0m                         Traceback (most recent call last)",
            "\u001b[0;32m/tmp/ipython-input-15-3998897698.py\u001b[0m in \u001b[0;36m<cell line: 0>\u001b[0;34m()\u001b[0m\n\u001b[1;32m      5\u001b[0m \u001b[0;32mfor\u001b[0m \u001b[0mi\u001b[0m \u001b[0;32min\u001b[0m \u001b[0mrange\u001b[0m\u001b[0;34m(\u001b[0m\u001b[0;36m100\u001b[0m\u001b[0;34m)\u001b[0m\u001b[0;34m:\u001b[0m\u001b[0;34m\u001b[0m\u001b[0;34m\u001b[0m\u001b[0m\n\u001b[1;32m      6\u001b[0m     \u001b[0;31m# generate new sessions\u001b[0m\u001b[0;34m\u001b[0m\u001b[0;34m\u001b[0m\u001b[0m\n\u001b[0;32m----> 7\u001b[0;31m     \u001b[0msessions\u001b[0m \u001b[0;34m=\u001b[0m \u001b[0;34m[\u001b[0m \u001b[0mgenerate_session\u001b[0m\u001b[0;34m(\u001b[0m\u001b[0menv\u001b[0m\u001b[0;34m,\u001b[0m \u001b[0magent\u001b[0m\u001b[0;34m)\u001b[0m \u001b[0;32mfor\u001b[0m \u001b[0m_\u001b[0m \u001b[0;32min\u001b[0m \u001b[0mrange\u001b[0m\u001b[0;34m(\u001b[0m\u001b[0mn_sessions\u001b[0m\u001b[0;34m)\u001b[0m \u001b[0;34m]\u001b[0m\u001b[0;34m\u001b[0m\u001b[0;34m\u001b[0m\u001b[0m\n\u001b[0m\u001b[1;32m      8\u001b[0m \u001b[0;34m\u001b[0m\u001b[0m\n\u001b[1;32m      9\u001b[0m     \u001b[0mstates_batch\u001b[0m\u001b[0;34m,\u001b[0m \u001b[0mactions_batch\u001b[0m\u001b[0;34m,\u001b[0m \u001b[0mrewards_batch\u001b[0m \u001b[0;34m=\u001b[0m \u001b[0mzip\u001b[0m\u001b[0;34m(\u001b[0m\u001b[0;34m*\u001b[0m\u001b[0msessions\u001b[0m\u001b[0;34m)\u001b[0m\u001b[0;34m\u001b[0m\u001b[0;34m\u001b[0m\u001b[0m\n",
            "\u001b[0;32m/tmp/ipython-input-15-3998897698.py\u001b[0m in \u001b[0;36m<listcomp>\u001b[0;34m(.0)\u001b[0m\n\u001b[1;32m      5\u001b[0m \u001b[0;32mfor\u001b[0m \u001b[0mi\u001b[0m \u001b[0;32min\u001b[0m \u001b[0mrange\u001b[0m\u001b[0;34m(\u001b[0m\u001b[0;36m100\u001b[0m\u001b[0;34m)\u001b[0m\u001b[0;34m:\u001b[0m\u001b[0;34m\u001b[0m\u001b[0;34m\u001b[0m\u001b[0m\n\u001b[1;32m      6\u001b[0m     \u001b[0;31m# generate new sessions\u001b[0m\u001b[0;34m\u001b[0m\u001b[0;34m\u001b[0m\u001b[0m\n\u001b[0;32m----> 7\u001b[0;31m     \u001b[0msessions\u001b[0m \u001b[0;34m=\u001b[0m \u001b[0;34m[\u001b[0m \u001b[0mgenerate_session\u001b[0m\u001b[0;34m(\u001b[0m\u001b[0menv\u001b[0m\u001b[0;34m,\u001b[0m \u001b[0magent\u001b[0m\u001b[0;34m)\u001b[0m \u001b[0;32mfor\u001b[0m \u001b[0m_\u001b[0m \u001b[0;32min\u001b[0m \u001b[0mrange\u001b[0m\u001b[0;34m(\u001b[0m\u001b[0mn_sessions\u001b[0m\u001b[0;34m)\u001b[0m \u001b[0;34m]\u001b[0m\u001b[0;34m\u001b[0m\u001b[0;34m\u001b[0m\u001b[0m\n\u001b[0m\u001b[1;32m      8\u001b[0m \u001b[0;34m\u001b[0m\u001b[0m\n\u001b[1;32m      9\u001b[0m     \u001b[0mstates_batch\u001b[0m\u001b[0;34m,\u001b[0m \u001b[0mactions_batch\u001b[0m\u001b[0;34m,\u001b[0m \u001b[0mrewards_batch\u001b[0m \u001b[0;34m=\u001b[0m \u001b[0mzip\u001b[0m\u001b[0;34m(\u001b[0m\u001b[0;34m*\u001b[0m\u001b[0msessions\u001b[0m\u001b[0;34m)\u001b[0m\u001b[0;34m\u001b[0m\u001b[0;34m\u001b[0m\u001b[0m\n",
            "\u001b[0;32m/tmp/ipython-input-9-1572206051.py\u001b[0m in \u001b[0;36mgenerate_session\u001b[0;34m(env, agent, t_max)\u001b[0m\n\u001b[1;32m     12\u001b[0m \u001b[0;34m\u001b[0m\u001b[0m\n\u001b[1;32m     13\u001b[0m         \u001b[0;31m# use agent to predict a vector of action probabilities for state :s:\u001b[0m\u001b[0;34m\u001b[0m\u001b[0;34m\u001b[0m\u001b[0m\n\u001b[0;32m---> 14\u001b[0;31m         \u001b[0mprobs\u001b[0m \u001b[0;34m=\u001b[0m \u001b[0magent\u001b[0m\u001b[0;34m.\u001b[0m\u001b[0mpredict_proba\u001b[0m\u001b[0;34m(\u001b[0m\u001b[0ms\u001b[0m\u001b[0;34m.\u001b[0m\u001b[0mreshape\u001b[0m\u001b[0;34m(\u001b[0m\u001b[0;36m1\u001b[0m\u001b[0;34m,\u001b[0m \u001b[0;34m-\u001b[0m\u001b[0;36m1\u001b[0m\u001b[0;34m)\u001b[0m\u001b[0;34m)\u001b[0m\u001b[0;34m[\u001b[0m\u001b[0;36m0\u001b[0m\u001b[0;34m]\u001b[0m\u001b[0;34m\u001b[0m\u001b[0;34m\u001b[0m\u001b[0m\n\u001b[0m\u001b[1;32m     15\u001b[0m \u001b[0;34m\u001b[0m\u001b[0m\n\u001b[1;32m     16\u001b[0m         \u001b[0;32massert\u001b[0m \u001b[0mprobs\u001b[0m\u001b[0;34m.\u001b[0m\u001b[0mshape\u001b[0m \u001b[0;34m==\u001b[0m \u001b[0;34m(\u001b[0m\u001b[0menv\u001b[0m\u001b[0;34m.\u001b[0m\u001b[0maction_space\u001b[0m\u001b[0;34m.\u001b[0m\u001b[0mn\u001b[0m\u001b[0;34m,\u001b[0m\u001b[0;34m)\u001b[0m\u001b[0;34m,\u001b[0m \u001b[0;34m\"make sure probabilities are a vector (hint: np.reshape)\"\u001b[0m\u001b[0;34m\u001b[0m\u001b[0;34m\u001b[0m\u001b[0m\n",
            "\u001b[0;32m/usr/local/lib/python3.11/dist-packages/sklearn/neural_network/_multilayer_perceptron.py\u001b[0m in \u001b[0;36mpredict_proba\u001b[0;34m(self, X)\u001b[0m\n\u001b[1;32m   1262\u001b[0m         \"\"\"\n\u001b[1;32m   1263\u001b[0m         \u001b[0mcheck_is_fitted\u001b[0m\u001b[0;34m(\u001b[0m\u001b[0mself\u001b[0m\u001b[0;34m)\u001b[0m\u001b[0;34m\u001b[0m\u001b[0;34m\u001b[0m\u001b[0m\n\u001b[0;32m-> 1264\u001b[0;31m         \u001b[0my_pred\u001b[0m \u001b[0;34m=\u001b[0m \u001b[0mself\u001b[0m\u001b[0;34m.\u001b[0m\u001b[0m_forward_pass_fast\u001b[0m\u001b[0;34m(\u001b[0m\u001b[0mX\u001b[0m\u001b[0;34m)\u001b[0m\u001b[0;34m\u001b[0m\u001b[0;34m\u001b[0m\u001b[0m\n\u001b[0m\u001b[1;32m   1265\u001b[0m \u001b[0;34m\u001b[0m\u001b[0m\n\u001b[1;32m   1266\u001b[0m         \u001b[0;32mif\u001b[0m \u001b[0mself\u001b[0m\u001b[0;34m.\u001b[0m\u001b[0mn_outputs_\u001b[0m \u001b[0;34m==\u001b[0m \u001b[0;36m1\u001b[0m\u001b[0;34m:\u001b[0m\u001b[0;34m\u001b[0m\u001b[0;34m\u001b[0m\u001b[0m\n",
            "\u001b[0;32m/usr/local/lib/python3.11/dist-packages/sklearn/neural_network/_multilayer_perceptron.py\u001b[0m in \u001b[0;36m_forward_pass_fast\u001b[0;34m(self, X, check_input)\u001b[0m\n\u001b[1;32m    202\u001b[0m         \"\"\"\n\u001b[1;32m    203\u001b[0m         \u001b[0;32mif\u001b[0m \u001b[0mcheck_input\u001b[0m\u001b[0;34m:\u001b[0m\u001b[0;34m\u001b[0m\u001b[0;34m\u001b[0m\u001b[0m\n\u001b[0;32m--> 204\u001b[0;31m             \u001b[0mX\u001b[0m \u001b[0;34m=\u001b[0m \u001b[0mvalidate_data\u001b[0m\u001b[0;34m(\u001b[0m\u001b[0mself\u001b[0m\u001b[0;34m,\u001b[0m \u001b[0mX\u001b[0m\u001b[0;34m,\u001b[0m \u001b[0maccept_sparse\u001b[0m\u001b[0;34m=\u001b[0m\u001b[0;34m[\u001b[0m\u001b[0;34m\"csr\"\u001b[0m\u001b[0;34m,\u001b[0m \u001b[0;34m\"csc\"\u001b[0m\u001b[0;34m]\u001b[0m\u001b[0;34m,\u001b[0m \u001b[0mreset\u001b[0m\u001b[0;34m=\u001b[0m\u001b[0;32mFalse\u001b[0m\u001b[0;34m)\u001b[0m\u001b[0;34m\u001b[0m\u001b[0;34m\u001b[0m\u001b[0m\n\u001b[0m\u001b[1;32m    205\u001b[0m \u001b[0;34m\u001b[0m\u001b[0m\n\u001b[1;32m    206\u001b[0m         \u001b[0;31m# Initialize first layer\u001b[0m\u001b[0;34m\u001b[0m\u001b[0;34m\u001b[0m\u001b[0m\n",
            "\u001b[0;32m/usr/local/lib/python3.11/dist-packages/sklearn/utils/validation.py\u001b[0m in \u001b[0;36mvalidate_data\u001b[0;34m(_estimator, X, y, reset, validate_separately, skip_check_array, **check_params)\u001b[0m\n\u001b[1;32m   2942\u001b[0m             \u001b[0mout\u001b[0m \u001b[0;34m=\u001b[0m \u001b[0mX\u001b[0m\u001b[0;34m,\u001b[0m \u001b[0my\u001b[0m\u001b[0;34m\u001b[0m\u001b[0;34m\u001b[0m\u001b[0m\n\u001b[1;32m   2943\u001b[0m     \u001b[0;32melif\u001b[0m \u001b[0;32mnot\u001b[0m \u001b[0mno_val_X\u001b[0m \u001b[0;32mand\u001b[0m \u001b[0mno_val_y\u001b[0m\u001b[0;34m:\u001b[0m\u001b[0;34m\u001b[0m\u001b[0;34m\u001b[0m\u001b[0m\n\u001b[0;32m-> 2944\u001b[0;31m         \u001b[0mout\u001b[0m \u001b[0;34m=\u001b[0m \u001b[0mcheck_array\u001b[0m\u001b[0;34m(\u001b[0m\u001b[0mX\u001b[0m\u001b[0;34m,\u001b[0m \u001b[0minput_name\u001b[0m\u001b[0;34m=\u001b[0m\u001b[0;34m\"X\"\u001b[0m\u001b[0;34m,\u001b[0m \u001b[0;34m**\u001b[0m\u001b[0mcheck_params\u001b[0m\u001b[0;34m)\u001b[0m\u001b[0;34m\u001b[0m\u001b[0;34m\u001b[0m\u001b[0m\n\u001b[0m\u001b[1;32m   2945\u001b[0m     \u001b[0;32melif\u001b[0m \u001b[0mno_val_X\u001b[0m \u001b[0;32mand\u001b[0m \u001b[0;32mnot\u001b[0m \u001b[0mno_val_y\u001b[0m\u001b[0;34m:\u001b[0m\u001b[0;34m\u001b[0m\u001b[0;34m\u001b[0m\u001b[0m\n\u001b[1;32m   2946\u001b[0m         \u001b[0mout\u001b[0m \u001b[0;34m=\u001b[0m \u001b[0m_check_y\u001b[0m\u001b[0;34m(\u001b[0m\u001b[0my\u001b[0m\u001b[0;34m,\u001b[0m \u001b[0;34m**\u001b[0m\u001b[0mcheck_params\u001b[0m\u001b[0;34m)\u001b[0m\u001b[0;34m\u001b[0m\u001b[0;34m\u001b[0m\u001b[0m\n",
            "\u001b[0;32m/usr/local/lib/python3.11/dist-packages/sklearn/utils/validation.py\u001b[0m in \u001b[0;36mcheck_array\u001b[0;34m(array, accept_sparse, accept_large_sparse, dtype, order, copy, force_writeable, force_all_finite, ensure_all_finite, ensure_non_negative, ensure_2d, allow_nd, ensure_min_samples, ensure_min_features, estimator, input_name)\u001b[0m\n\u001b[1;32m   1035\u001b[0m         \u001b[0;31m# thereby passing the test made in the lines following the scope\u001b[0m\u001b[0;34m\u001b[0m\u001b[0;34m\u001b[0m\u001b[0m\n\u001b[1;32m   1036\u001b[0m         \u001b[0;31m# of warnings context manager.\u001b[0m\u001b[0;34m\u001b[0m\u001b[0;34m\u001b[0m\u001b[0m\n\u001b[0;32m-> 1037\u001b[0;31m         \u001b[0;32mwith\u001b[0m \u001b[0mwarnings\u001b[0m\u001b[0;34m.\u001b[0m\u001b[0mcatch_warnings\u001b[0m\u001b[0;34m(\u001b[0m\u001b[0;34m)\u001b[0m\u001b[0;34m:\u001b[0m\u001b[0;34m\u001b[0m\u001b[0;34m\u001b[0m\u001b[0m\n\u001b[0m\u001b[1;32m   1038\u001b[0m             \u001b[0;32mtry\u001b[0m\u001b[0;34m:\u001b[0m\u001b[0;34m\u001b[0m\u001b[0;34m\u001b[0m\u001b[0m\n\u001b[1;32m   1039\u001b[0m                 \u001b[0mwarnings\u001b[0m\u001b[0;34m.\u001b[0m\u001b[0msimplefilter\u001b[0m\u001b[0;34m(\u001b[0m\u001b[0;34m\"error\"\u001b[0m\u001b[0;34m,\u001b[0m \u001b[0mComplexWarning\u001b[0m\u001b[0;34m)\u001b[0m\u001b[0;34m\u001b[0m\u001b[0;34m\u001b[0m\u001b[0m\n",
            "\u001b[0;31mKeyboardInterrupt\u001b[0m: "
          ]
        }
      ],
      "source": [
        "n_sessions = 100\n",
        "percentile = 70\n",
        "log = []\n",
        "\n",
        "for i in range(100):\n",
        "    # generate new sessions\n",
        "    sessions = [ generate_session(env, agent) for _ in range(n_sessions) ]\n",
        "\n",
        "    states_batch, actions_batch, rewards_batch = zip(*sessions)\n",
        "    rewards_batch = np.array(rewards_batch)\n",
        "\n",
        "    elite_states, elite_actions = select_elites(states_batch, actions_batch, rewards_batch, percentile)\n",
        "\n",
        "    if i == 0:\n",
        "        agent.partial_fit(elite_states, elite_actions, classes=np.arange(n_actions))\n",
        "    else:\n",
        "        agent.partial_fit(elite_states, elite_actions)\n",
        "\n",
        "    show_progress(\n",
        "        rewards_batch, log, percentile, reward_range=[0, np.max(rewards_batch)]\n",
        "    )\n",
        "    if np.mean(rewards_batch) > 190:\n",
        "        print(\"You Win! You may stop training now via KeyboardInterrupt.\")\n"
      ]
    },
    {
      "cell_type": "markdown",
      "metadata": {
        "id": "yeNWKjtsG9zM"
      },
      "source": [
        "# Results"
      ]
    },
    {
      "cell_type": "code",
      "execution_count": 16,
      "metadata": {
        "id": "RJwsWl4kG9zM",
        "outputId": "d5196ca7-faee-4fd4-d784-0c6117327d26",
        "colab": {
          "base_uri": "https://localhost:8080/"
        }
      },
      "outputs": [
        {
          "output_type": "stream",
          "name": "stderr",
          "text": [
            "/usr/local/lib/python3.11/dist-packages/gymnasium/envs/registration.py:512: DeprecationWarning: \u001b[33mWARN: The environment CartPole-v0 is out of date. You should consider upgrading to version `v1`.\u001b[0m\n",
            "  logger.deprecation(\n"
          ]
        }
      ],
      "source": [
        "# Record sessions\n",
        "\n",
        "from gymnasium.wrappers import RecordVideo\n",
        "\n",
        "with RecordVideo(\n",
        "    env=gym.make(\"CartPole-v0\", render_mode=\"rgb_array\"),\n",
        "    video_folder=\"./videos\",\n",
        "    episode_trigger=lambda episode_number: True,\n",
        ") as env_monitor:\n",
        "    sessions = [generate_session(env_monitor, agent) for _ in range(100)]\n"
      ]
    },
    {
      "cell_type": "code",
      "execution_count": 17,
      "metadata": {
        "id": "kLPXdME7G9zN",
        "outputId": "430f3f27-255f-48ed-fc89-c78a4119979f",
        "colab": {
          "base_uri": "https://localhost:8080/",
          "height": 501
        }
      },
      "outputs": [
        {
          "output_type": "execute_result",
          "data": {
            "text/plain": [
              "<IPython.core.display.HTML object>"
            ],
            "text/html": [
              "\n",
              "<video width=\"640\" height=\"480\" controls>\n",
              "  <source src=\"data:video/mp4;base64,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\" type=\"video/mp4\">\n",
              "</video>\n"
            ]
          },
          "metadata": {},
          "execution_count": 17
        }
      ],
      "source": [
        "# Show video. This may not work in some setups. If it doesn't\n",
        "# work for you, you can download the videos and view them locally.\n",
        "\n",
        "from pathlib import Path\n",
        "from base64 import b64encode\n",
        "from IPython.display import HTML\n",
        "\n",
        "video_paths = sorted([s for s in Path(\"videos\").iterdir() if s.suffix == \".mp4\"])\n",
        "video_path = video_paths[-1]  # You can also try other indices\n",
        "\n",
        "if \"google.colab\" in sys.modules:\n",
        "    # https://stackoverflow.com/a/57378660/1214547\n",
        "    with video_path.open(\"rb\") as fp:\n",
        "        mp4 = fp.read()\n",
        "    data_url = \"data:video/mp4;base64,\" + b64encode(mp4).decode()\n",
        "else:\n",
        "    data_url = str(video_path)\n",
        "\n",
        "HTML(\n",
        "    \"\"\"\n",
        "<video width=\"640\" height=\"480\" controls>\n",
        "  <source src=\"{}\" type=\"video/mp4\">\n",
        "</video>\n",
        "\"\"\".format(\n",
        "        data_url\n",
        "    )\n",
        ")\n"
      ]
    },
    {
      "cell_type": "markdown",
      "metadata": {
        "id": "6d_3oOQ1G9zN"
      },
      "source": [
        "# Homework part I\n",
        "\n",
        "### Tabular crossentropy method\n",
        "\n",
        "You may have noticed that the taxi problem quickly converges from -100 to a near-optimal score and then descends back into -50/-100. This is in part because the environment has some innate randomness. Namely, the starting points of passenger/driver change from episode to episode.\n",
        "\n",
        "### Tasks\n",
        "- __1.1__ (2 pts) Find out how the algorithm performance changes if you use a different `percentile` and/or `n_sessions`. Provide here some figures so we can see how the hyperparameters influence the performance.\n",
        "- __1.2__ (1 pts) Tune the algorithm to end up with positive average score.\n",
        "\n",
        "It's okay to modify the existing code.\n"
      ]
    },
    {
      "cell_type": "markdown",
      "metadata": {
        "id": "L88LySiVG9zN"
      },
      "source": [
        "```<Describe what you did here>```"
      ]
    },
    {
      "cell_type": "markdown",
      "metadata": {
        "id": "7LpAJc4rG9zN"
      },
      "source": [
        "# Homework part II\n",
        "\n",
        "### Deep crossentropy method\n",
        "\n",
        "By this moment, you should have got enough score on [CartPole-v0](https://gymnasium.farama.org/environments/classic_control/cart_pole/) to consider it solved (see the link). It's time to try something harder.\n",
        "\n",
        "* if you have any trouble with CartPole-v0 and feel stuck, feel free to ask us or your peers for help.\n",
        "\n",
        "### Tasks\n",
        "\n",
        "* __2.1__ (3 pts) Pick one of environments: `MountainCar-v0` or `LunarLander-v2`.\n",
        "  * For MountainCar, get average reward of __at least -150__\n",
        "  * For LunarLander, get average reward of __at least +50__\n",
        "\n",
        "See the tips section below, it's kinda important.\n",
        "__Note:__ If your agent is below the target score, you'll still get some of the points depending on the result, so don't be afraid to submit it.\n",
        "  \n",
        "  \n",
        "* __2.2__ (up to 6 pts) Devise a way to speed up training against the default version\n",
        "  * Obvious improvement: use [`joblib`](https://joblib.readthedocs.io/en/latest/). However, note that you will probably need to spawn a new environment in each of the workers instead of passing it via pickling. (2 pts)\n",
        "  * Try re-using samples from 3-5 last iterations when computing threshold and training. (2 pts)\n",
        "  * Obtain __-100__ at `MountainCar-v0` or __+200__ at `LunarLander-v2` (2 pts). Feel free to experiment with hyperparameters, architectures, schedules etc.\n",
        "  \n",
        "__Please list what you did in Anytask submission form__. This reduces probability that somebody misses something.\n",
        "  \n",
        "  \n",
        "### Tips\n",
        "* Gymnasium pages: [MountainCar](https://gymnasium.farama.org/environments/classic_control/mountain_car/), [LunarLander](https://gymnasium.farama.org/environments/box2d/lunar_lander/)\n",
        "* Sessions for MountainCar may last for 10k+ ticks. Make sure ```t_max``` param is at least 10k.\n",
        " * Also it may be a good idea to cut rewards via \">\" and not \">=\". If 90% of your sessions get reward of -10k and 10% are better, than if you use percentile 20% as threshold, R >= threshold __fails to cut off bad sessions__ while R > threshold works alright.\n",
        "* _issue with gym_: Some versions of gym limit game time by 200 ticks. This will prevent cem training in most cases. Make sure your agent is able to play for the specified __t_max__, and if it isn't, try `env = gym.make(\"MountainCar-v0\").env` or otherwise get rid of TimeLimit wrapper.\n",
        "* If you use old _swig_ lib for LunarLander-v2, you may get an error. See this [issue](https://github.com/openai/gym/issues/100) for solution.\n",
        "* If it doesn't train, it's a good idea to plot reward distribution and record sessions: they may give you some clue. If they don't, call course staff :)\n",
        "* 20-neuron network is probably not enough, feel free to experiment.\n",
        "\n",
        "You may find the following snippet useful:"
      ]
    },
    {
      "cell_type": "code",
      "execution_count": null,
      "metadata": {
        "id": "qcjz-nm_G9zN"
      },
      "outputs": [],
      "source": [
        "def visualize_mountain_car(env, agent):\n",
        "    # Compute policy for all possible x and v (with discretization)\n",
        "    xs = np.linspace(env.min_position, env.max_position, 100)\n",
        "    vs = np.linspace(-env.max_speed, env.max_speed, 100)\n",
        "\n",
        "    grid = np.dstack(np.meshgrid(xs, vs[::-1])).transpose(1, 0, 2)\n",
        "    grid_flat = grid.reshape(len(xs) * len(vs), 2)\n",
        "    probs = (\n",
        "        agent.predict_proba(grid_flat).reshape(len(xs), len(vs), 3).transpose(1, 0, 2)\n",
        "    )\n",
        "\n",
        "    # # The above code is equivalent to the following:\n",
        "    # probs = np.empty((len(vs), len(xs), 3))\n",
        "    # for i, v in enumerate(vs[::-1]):\n",
        "    #     for j, x in enumerate(xs):\n",
        "    #         probs[i, j, :] = agent.predict_proba([[x, v]])[0]\n",
        "\n",
        "    # Draw policy\n",
        "    f, ax = plt.subplots(figsize=(7, 7))\n",
        "    ax.imshow(\n",
        "        probs,\n",
        "        extent=(env.min_position, env.max_position, -env.max_speed, env.max_speed),\n",
        "        aspect=\"auto\",\n",
        "    )\n",
        "    ax.set_title(\"Learned policy: red=left, green=nothing, blue=right\")\n",
        "    ax.set_xlabel(\"position (x)\")\n",
        "    ax.set_ylabel(\"velocity (v)\")\n",
        "\n",
        "    # Sample a trajectory and draw it\n",
        "    states, actions, _ = generate_session(env, agent)\n",
        "    states = np.array(states)\n",
        "    ax.plot(states[:, 0], states[:, 1], color=\"white\")\n",
        "\n",
        "    # Draw every 3rd action from the trajectory\n",
        "    for (x, v), a in zip(states[::3], actions[::3]):\n",
        "        if a == 0:\n",
        "            plt.arrow(x, v, -0.1, 0, color=\"white\", head_length=0.02)\n",
        "        elif a == 2:\n",
        "            plt.arrow(x, v, 0.1, 0, color=\"white\", head_length=0.02)\n",
        "\n",
        "\n",
        "with gym.make(\"MountainCar-v0\", render_mode=\"rgb_arrary\").env as env:\n",
        "    visualize_mountain_car(env, agent)\n"
      ]
    },
    {
      "cell_type": "markdown",
      "metadata": {
        "id": "Dzk41lDPG9zO"
      },
      "source": [
        "### Bonus tasks\n",
        "\n",
        "* __2.3 bonus__ (2 pts) Try to find a network architecture and training params that solve __both__ environments above (_Points depend on implementation. If you attempted this task, please mention it in Anytask submission._)\n",
        "\n",
        "* __2.4 bonus__ (4 pts) Solve continuous action space task with `MLPRegressor` or similar.\n",
        "  * Since your agent only predicts the \"expected\" action, you will have to add noise to ensure exploration.\n",
        "  * Choose one of [MountainCarContinuous-v0](https://gymnasium.farama.org/environments/classic_control/mountain_car_continuous/) (90+ pts to solve), [LunarLanderContinuous-v2](https://gymnasium.farama.org/environments/box2d/lunar_lander/) (`env = gym.make(\"LunarLander-v2\", continuous=True)`)(200+ pts to solve)\n",
        "  * 4 points for solving. Slightly less for getting some results below solution threshold. Note that discrete and continuous environments may have slightly different rules, aside from action spaces."
      ]
    }
  ],
  "metadata": {
    "colab": {
      "provenance": []
    },
    "kernelspec": {
      "display_name": "Python 3",
      "language": "python",
      "name": "python3"
    },
    "language_info": {
      "codemirror_mode": {
        "name": "ipython",
        "version": 3
      },
      "file_extension": ".py",
      "mimetype": "text/x-python",
      "name": "python",
      "nbconvert_exporter": "python",
      "pygments_lexer": "ipython3",
      "version": "3.8.5"
    }
  },
  "nbformat": 4,
  "nbformat_minor": 0
}