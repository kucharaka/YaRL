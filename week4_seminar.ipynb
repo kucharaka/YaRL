{
  "cells": [
    {
      "cell_type": "markdown",
      "metadata": {
        "id": "kr_aKWMGEmh-"
      },
      "source": [
        "# Approximate q-learning\n",
        "\n",
        "In this notebook you will teach a __PyTorch__ neural network to do Q-learning."
      ]
    },
    {
      "cell_type": "code",
      "execution_count": 1,
      "metadata": {
        "id": "oaMu65ONEmh_",
        "outputId": "24ab99b6-fa6a-4a4c-dba6-eb3aec251bdf",
        "colab": {
          "base_uri": "https://localhost:8080/"
        }
      },
      "outputs": [
        {
          "output_type": "stream",
          "name": "stdout",
          "text": [
            "W: Skipping acquire of configured file 'main/source/Sources' as repository 'https://r2u.stat.illinois.edu/ubuntu jammy InRelease' does not seem to provide it (sources.list entry misspelt?)\n",
            "Starting virtual X frame buffer: Xvfb.\n"
          ]
        }
      ],
      "source": [
        "import sys, os\n",
        "if 'google.colab' in sys.modules and not os.path.exists('.setup_complete'):\n",
        "    !wget -q https://raw.githubusercontent.com/yandexdataschool/Practical_RL/master/setup_colab.sh -O- | bash\n",
        "    !touch .setup_complete\n",
        "\n",
        "# This code creates a virtual display to draw game images on.\n",
        "# It will have no effect if your machine has a monitor.\n",
        "if type(os.environ.get(\"DISPLAY\")) is not str or len(os.environ.get(\"DISPLAY\")) == 0:\n",
        "    !bash ../xvfb start\n",
        "    os.environ['DISPLAY'] = ':1'"
      ]
    },
    {
      "cell_type": "code",
      "execution_count": 2,
      "metadata": {
        "id": "avILCRKkEpaX",
        "outputId": "6c525995-8c14-4694-aa5e-e422af40741a",
        "colab": {
          "base_uri": "https://localhost:8080/"
        }
      },
      "outputs": [
        {
          "output_type": "stream",
          "name": "stdout",
          "text": [
            "Requirement already satisfied: gymnasium[classic_control] in /usr/local/lib/python3.12/dist-packages (1.2.0)\n",
            "Requirement already satisfied: numpy>=1.21.0 in /usr/local/lib/python3.12/dist-packages (from gymnasium[classic_control]) (2.0.2)\n",
            "Requirement already satisfied: cloudpickle>=1.2.0 in /usr/local/lib/python3.12/dist-packages (from gymnasium[classic_control]) (3.1.1)\n",
            "Requirement already satisfied: typing-extensions>=4.3.0 in /usr/local/lib/python3.12/dist-packages (from gymnasium[classic_control]) (4.15.0)\n",
            "Requirement already satisfied: farama-notifications>=0.0.1 in /usr/local/lib/python3.12/dist-packages (from gymnasium[classic_control]) (0.0.4)\n",
            "Requirement already satisfied: pygame>=2.1.3 in /usr/local/lib/python3.12/dist-packages (from gymnasium[classic_control]) (2.6.1)\n"
          ]
        }
      ],
      "source": [
        "!pip install gymnasium[classic_control]"
      ]
    },
    {
      "cell_type": "code",
      "execution_count": 3,
      "metadata": {
        "id": "K_SRk2ASEmh_"
      },
      "outputs": [],
      "source": [
        "import gymnasium as gym\n",
        "import numpy as np\n",
        "import pandas as pd\n",
        "import matplotlib.pyplot as plt\n",
        "%matplotlib inline"
      ]
    },
    {
      "cell_type": "code",
      "execution_count": 4,
      "metadata": {
        "id": "x2YvkgprEmh_",
        "outputId": "3b9bf2c5-bb9f-4886-9cfd-5ba209ad8457",
        "colab": {
          "base_uri": "https://localhost:8080/",
          "height": 450
        }
      },
      "outputs": [
        {
          "output_type": "stream",
          "name": "stderr",
          "text": [
            "/usr/local/lib/python3.12/dist-packages/gymnasium/envs/registration.py:512: DeprecationWarning: \u001b[33mWARN: The environment CartPole-v0 is out of date. You should consider upgrading to version `v1`.\u001b[0m\n",
            "  logger.deprecation(\n"
          ]
        },
        {
          "output_type": "display_data",
          "data": {
            "text/plain": [
              "<Figure size 640x480 with 1 Axes>"
            ],
            "image/png": "[encoded data removed]"
          },
          "metadata": {}
        }
      ],
      "source": [
        "env = gym.make(\"CartPole-v0\", render_mode=\"rgb_array\").env\n",
        "env.reset()\n",
        "n_actions = env.action_space.n\n",
        "state_dim = env.observation_space.shape\n",
        "\n",
        "plt.imshow(env.render())\n",
        "env.close()"
      ]
    },
    {
      "cell_type": "markdown",
      "metadata": {
        "id": "sI8W19CwEmh_"
      },
      "source": [
        "# Approximate Q-learning: building the network\n",
        "\n",
        "To train a neural network policy one must have a neural network policy. Let's build it.\n",
        "\n",
        "\n",
        "Since we're working with a pre-extracted features (cart positions, angles and velocities), we don't need a complicated network yet. In fact, let's build something like this for starters:\n",
        "\n",
        "![img](https://raw.githubusercontent.com/yandexdataschool/Practical_RL/master/yet_another_week/_resource/qlearning_scheme.png)\n",
        "\n",
        "For your first run, please only use linear layers (`nn.Linear`) and activations. Stuff like batch normalization or dropout may ruin everything if used haphazardly.\n",
        "\n",
        "Also please avoid using nonlinearities like sigmoid & tanh: since agent's observations are not normalized, sigmoids might be saturated at initialization. Instead, use non-saturating nonlinearities like ReLU.\n",
        "\n",
        "Ideally you should start small with maybe 1-2 hidden layers with < 200 neurons and then increase network size if agent doesn't beat the target score."
      ]
    },
    {
      "cell_type": "code",
      "execution_count": 5,
      "metadata": {
        "id": "YdWXv8WJEmiA"
      },
      "outputs": [],
      "source": [
        "import torch\n",
        "import torch.nn as nn\n",
        "import torch.nn.functional as F"
      ]
    },
    {
      "cell_type": "code",
      "execution_count": 6,
      "metadata": {
        "id": "y2-PcaIQEmiA"
      },
      "outputs": [],
      "source": [
        "state_dim = env.observation_space.shape\n",
        "n_actions = env.action_space.n\n",
        "\n",
        "network = nn.Sequential()\n",
        "network.add_module('layer1', nn.Linear(state_dim[0], 128))\n",
        "network.add_module('relu1', nn.ReLU())\n",
        "network.add_module('layer2', nn.Linear(128, 128))\n",
        "network.add_module('relu2', nn.ReLU())\n",
        "network.add_module('output', nn.Linear(128, n_actions))\n"
      ]
    },
    {
      "cell_type": "code",
      "execution_count": 7,
      "metadata": {
        "id": "8xuWPGriEmiA"
      },
      "outputs": [],
      "source": [
        "import numpy as np\n",
        "\n",
        "def get_action(state, epsilon=0.0):\n",
        "    \"\"\"\n",
        "    sample actions with epsilon-greedy policy\n",
        "    \"\"\"\n",
        "    # превращаем в тензор с батчем размерности (1, state_dim)\n",
        "    state = torch.tensor(state[None], dtype=torch.float32)\n",
        "    q_values = network(state).detach().numpy()[0]\n",
        "\n",
        "    if np.random.rand() < epsilon:\n",
        "        # случайное действие\n",
        "        return np.random.randint(len(q_values))\n",
        "    else:\n",
        "        # действие с макс. значением Q\n",
        "        return int(np.argmax(q_values))\n"
      ]
    },
    {
      "cell_type": "code",
      "execution_count": 8,
      "metadata": {
        "id": "wroEfSRNEmiA",
        "outputId": "a6873359-8fa6-4f73-ea9a-448f095a57cf",
        "colab": {
          "base_uri": "https://localhost:8080/"
        }
      },
      "outputs": [
        {
          "output_type": "stream",
          "name": "stderr",
          "text": [
            "/tmp/ipython-input-2259198421.py:2: UserWarning: Creating a tensor from a list of numpy.ndarrays is extremely slow. Please consider converting the list to a single numpy.ndarray with numpy.array() before converting to a tensor. (Triggered internally at /pytorch/torch/csrc/utils/tensor_new.cpp:253.)\n",
            "  assert tuple(network(torch.tensor([s]*3, dtype=torch.float32)).size()) == (\n"
          ]
        },
        {
          "output_type": "stream",
          "name": "stdout",
          "text": [
            "e=0.0 tests passed\n",
            "e=0.1 tests passed\n",
            "e=0.5 tests passed\n",
            "e=1.0 tests passed\n"
          ]
        }
      ],
      "source": [
        "s, _ = env.reset()\n",
        "assert tuple(network(torch.tensor([s]*3, dtype=torch.float32)).size()) == (\n",
        "    3, n_actions), \"please make sure your model maps state s -> [Q(s,a0), ..., Q(s, a_last)]\"\n",
        "assert isinstance(list(network.modules(\n",
        "))[-1], nn.Linear), \"please make sure you predict q-values without nonlinearity (ignore if you know what you're doing)\"\n",
        "assert isinstance(get_action(s), int), \"get_action(s) must return int, not %s. try int(action)\" % (type(get_action(s)))\n",
        "\n",
        "# test epsilon-greedy exploration\n",
        "for eps in [0., 0.1, 0.5, 1.0]:\n",
        "    state_frequencies = np.bincount(\n",
        "        [get_action(s, epsilon=eps) for i in range(10000)], minlength=n_actions)\n",
        "    best_action = state_frequencies.argmax()\n",
        "    assert abs(state_frequencies[best_action] -\n",
        "               10000 * (1 - eps + eps / n_actions)) < 200\n",
        "    for other_action in range(n_actions):\n",
        "        if other_action != best_action:\n",
        "            assert abs(state_frequencies[other_action] -\n",
        "                       10000 * (eps / n_actions)) < 200\n",
        "    print('e=%.1f tests passed' % eps)"
      ]
    },
    {
      "cell_type": "markdown",
      "metadata": {
        "id": "f88ovLBQEmiA"
      },
      "source": [
        "### Q-learning via gradient descent\n",
        "\n",
        "We shall now train our agent's Q-function by minimizing the TD loss:\n",
        "$$ L = { 1 \\over N} \\sum_i (Q_{\\theta}(s,a) - [r(s,a) + \\gamma \\cdot max_{a'} Q_{-}(s', a')]) ^2 $$\n",
        "\n",
        "\n",
        "Where\n",
        "* $s, a, r, s'$ are current state, action, reward and next state respectively\n",
        "* $\\gamma$ is a discount factor defined two cells above.\n",
        "\n",
        "The tricky part is with  $Q_{-}(s',a')$. From an engineering standpoint, it's the same as $Q_{\\theta}$ - the output of your neural network policy. However, when doing gradient descent, __we won't propagate gradients through it__ to make training more stable (see lectures).\n",
        "\n",
        "To do so, we shall use `x.detach()` function which basically says \"consider this thing constant when doing backprop\"."
      ]
    },
    {
      "cell_type": "code",
      "execution_count": 9,
      "metadata": {
        "id": "bOIpO142EmiB"
      },
      "outputs": [],
      "source": [
        "def compute_td_loss(states, actions, rewards, next_states, is_done, gamma=0.99, check_shapes=False):\n",
        "    \"\"\" Compute TD loss using pytorch operations. \"\"\"\n",
        "\n",
        "    # преобразование к torch.tensor\n",
        "    states = torch.tensor(states, dtype=torch.float32)         # [batch_size, state_dim]\n",
        "    actions = torch.tensor(actions, dtype=torch.long)          # [batch_size]\n",
        "    rewards = torch.tensor(rewards, dtype=torch.float32)       # [batch_size]\n",
        "    next_states = torch.tensor(next_states, dtype=torch.float32)\n",
        "    is_done = torch.tensor(is_done, dtype=torch.uint8)         # [batch_size]\n",
        "\n",
        "    # Q(s,a) для текущих состояний\n",
        "    predicted_qvalues = network(states)                        # [batch_size, n_actions]\n",
        "\n",
        "    # Q(s,a) только для выбранных действий\n",
        "    predicted_qvalues_for_actions = predicted_qvalues[\n",
        "        range(states.shape[0]), actions\n",
        "    ]                                                          # [batch_size]\n",
        "\n",
        "    # Q(s',a) для следующих состояний\n",
        "    predicted_next_qvalues = network(next_states)              # [batch_size, n_actions]\n",
        "\n",
        "    # V*(s') = max_a Q(s',a)\n",
        "    next_state_values = torch.max(predicted_next_qvalues, dim=1)[0]\n",
        "\n",
        "    # таргет для обновления\n",
        "    target_qvalues_for_actions = rewards + gamma * next_state_values\n",
        "\n",
        "    # если эпизод закончился → таргет = reward\n",
        "    target_qvalues_for_actions = torch.where(\n",
        "        is_done.bool(), rewards, target_qvalues_for_actions\n",
        "    )\n",
        "\n",
        "    # MSE Loss, detach target (чтобы не было градиента через target Q)\n",
        "    loss = torch.mean(\n",
        "        (predicted_qvalues_for_actions - target_qvalues_for_actions.detach()) ** 2\n",
        "    )\n",
        "\n",
        "    if check_shapes:\n",
        "        assert predicted_next_qvalues.shape[1] >= 1, \"Next Q-values must have second dimension = n_actions\"\n",
        "        assert next_state_values.ndim == 1, \"V(s') must be vector [batch_size]\"\n",
        "        assert target_qvalues_for_actions.ndim == 1, \"Target must be vector [batch_size]\"\n",
        "\n",
        "    return loss\n"
      ]
    },
    {
      "cell_type": "code",
      "execution_count": 10,
      "metadata": {
        "id": "lKi6AK3DEmiB"
      },
      "outputs": [],
      "source": [
        "# sanity checks\n",
        "s, _ = env.reset()\n",
        "a = env.action_space.sample()\n",
        "next_s, r, terminated, _, _ = env.step(a)\n",
        "loss = compute_td_loss([s], [a], [r], [next_s], [terminated], check_shapes=True)\n",
        "loss.backward()\n",
        "\n",
        "assert len(loss.size()) == 0, \"you must return scalar loss - mean over batch\"\n",
        "assert np.any(next(network.parameters()).grad.detach().numpy() !=\n",
        "              0), \"loss must be differentiable w.r.t. network weights\""
      ]
    },
    {
      "cell_type": "markdown",
      "metadata": {
        "id": "LgL6G5lFEmiB"
      },
      "source": [
        "### Playing the game"
      ]
    },
    {
      "cell_type": "code",
      "execution_count": 11,
      "metadata": {
        "id": "zsHb_fjjEmiB"
      },
      "outputs": [],
      "source": [
        "opt = torch.optim.Adam(network.parameters(), lr=1e-4)"
      ]
    },
    {
      "cell_type": "code",
      "execution_count": 12,
      "metadata": {
        "id": "nJ_-xtsjEmiB"
      },
      "outputs": [],
      "source": [
        "def generate_session(env, t_max=1000, epsilon=0, train=False):\n",
        "    \"\"\"play env with approximate q-learning agent and train it at the same time\"\"\"\n",
        "    total_reward = 0\n",
        "    s, _ = env.reset()\n",
        "\n",
        "    for t in range(t_max):\n",
        "        a = get_action(s, epsilon=epsilon)\n",
        "        next_s, r, terminated, truncated, _ = env.step(a)\n",
        "\n",
        "        if train:\n",
        "            opt.zero_grad()\n",
        "            compute_td_loss([s], [a], [r], [next_s], [terminated]).backward()\n",
        "            opt.step()\n",
        "\n",
        "        total_reward += r\n",
        "        s = next_s\n",
        "        if terminated or truncated:\n",
        "            break\n",
        "\n",
        "    return total_reward"
      ]
    },
    {
      "cell_type": "code",
      "execution_count": 13,
      "metadata": {
        "id": "40mKYuVIEmiB"
      },
      "outputs": [],
      "source": [
        "epsilon = 0.5"
      ]
    },
    {
      "cell_type": "code",
      "execution_count": 14,
      "metadata": {
        "id": "EXy8ij00EmiB",
        "outputId": "8e4a31f7-5ed1-44d3-a030-9835df2b27ab",
        "colab": {
          "base_uri": "https://localhost:8080/"
        }
      },
      "outputs": [
        {
          "output_type": "stream",
          "name": "stdout",
          "text": [
            "epoch #0\tmean reward = 14.150\tepsilon = 0.500\n",
            "epoch #1\tmean reward = 14.090\tepsilon = 0.495\n",
            "epoch #2\tmean reward = 14.820\tepsilon = 0.490\n",
            "epoch #3\tmean reward = 14.550\tepsilon = 0.485\n",
            "epoch #4\tmean reward = 23.470\tepsilon = 0.480\n",
            "epoch #5\tmean reward = 27.750\tepsilon = 0.475\n",
            "epoch #6\tmean reward = 40.080\tepsilon = 0.471\n",
            "epoch #7\tmean reward = 46.330\tepsilon = 0.466\n",
            "epoch #8\tmean reward = 54.780\tepsilon = 0.461\n",
            "epoch #9\tmean reward = 72.780\tepsilon = 0.457\n",
            "epoch #10\tmean reward = 100.650\tepsilon = 0.452\n",
            "epoch #11\tmean reward = 126.250\tepsilon = 0.448\n",
            "epoch #12\tmean reward = 157.470\tepsilon = 0.443\n",
            "epoch #13\tmean reward = 169.010\tepsilon = 0.439\n",
            "epoch #14\tmean reward = 168.850\tepsilon = 0.434\n",
            "epoch #15\tmean reward = 186.190\tepsilon = 0.430\n",
            "epoch #16\tmean reward = 169.450\tepsilon = 0.426\n",
            "epoch #17\tmean reward = 169.710\tepsilon = 0.421\n",
            "epoch #18\tmean reward = 200.620\tepsilon = 0.417\n",
            "epoch #19\tmean reward = 254.940\tepsilon = 0.413\n",
            "epoch #20\tmean reward = 310.510\tepsilon = 0.409\n",
            "You Win!\n"
          ]
        }
      ],
      "source": [
        "for i in range(1000):\n",
        "    session_rewards = [generate_session(env, epsilon=epsilon, train=True) for _ in range(100)]\n",
        "    print(\"epoch #{}\\tmean reward = {:.3f}\\tepsilon = {:.3f}\".format(i, np.mean(session_rewards), epsilon))\n",
        "\n",
        "    epsilon *= 0.99\n",
        "    assert epsilon >= 1e-4, \"Make sure epsilon is always nonzero during training\"\n",
        "\n",
        "    if np.mean(session_rewards) > 300:\n",
        "        print(\"You Win!\")\n",
        "        break"
      ]
    },
    {
      "cell_type": "markdown",
      "metadata": {
        "id": "XJPoF9XtEmiB"
      },
      "source": [
        "### How to interpret results\n",
        "\n",
        "\n",
        "Welcome to the f.. world of deep f...n reinforcement learning. Don't expect agent's reward to smoothly go up. Hope for it to go increase eventually. If it deems you worthy.\n",
        "\n",
        "Seriously though,\n",
        "* __ mean reward__ is the average reward per game. For a correct implementation it may stay low for some 10 epochs, then start growing while oscilating insanely and converges by ~50-100 steps depending on the network architecture.\n",
        "* If it never reaches target score by the end of for loop, try increasing the number of hidden neurons or look at the epsilon.\n",
        "* __ epsilon__ - agent's willingness to explore. If you see that agent's already at < 0.01 epsilon before it's is at least 200, just reset it back to 0.1 - 0.5."
      ]
    },
    {
      "cell_type": "markdown",
      "metadata": {
        "id": "lhKiN-qOEmiB"
      },
      "source": [
        "### Record videos\n",
        "\n",
        "As usual, we now use `gymnasium.wrappers.RecordVideo` to record a video of our agent playing the game. Unlike our previous attempts with state binarization, this time we expect our agent to act ~~(or fail)~~ more smoothly since there's no more binarization error at play.\n",
        "\n",
        "As you already did with tabular q-learning, we set epsilon=0 for final evaluation to prevent agent from exploring himself to death."
      ]
    },
    {
      "cell_type": "code",
      "execution_count": 15,
      "metadata": {
        "id": "2yqPkj6HEmiB",
        "outputId": "1f1c8bbf-3582-4e2d-b266-7723d1c538e6",
        "colab": {
          "base_uri": "https://localhost:8080/"
        }
      },
      "outputs": [
        {
          "output_type": "stream",
          "name": "stderr",
          "text": [
            "/usr/local/lib/python3.12/dist-packages/gymnasium/envs/registration.py:512: DeprecationWarning: \u001b[33mWARN: The environment CartPole-v0 is out of date. You should consider upgrading to version `v1`.\u001b[0m\n",
            "  logger.deprecation(\n",
            "/usr/local/lib/python3.12/dist-packages/moviepy/config_defaults.py:47: SyntaxWarning: invalid escape sequence '\\P'\n",
            "  IMAGEMAGICK_BINARY = r\"C:\\Program Files\\ImageMagick-6.8.8-Q16\\magick.exe\"\n"
          ]
        }
      ],
      "source": [
        "# Record sessions\n",
        "\n",
        "from gymnasium.wrappers import RecordVideo\n",
        "\n",
        "with gym.make(\"CartPole-v0\", render_mode=\"rgb_array\") as record_env, RecordVideo(\n",
        "    record_env, video_folder=\"videos\"\n",
        ") as env_monitor:\n",
        "    sessions = [\n",
        "        generate_session(env_monitor, epsilon=0, train=False) for _ in range(100)\n",
        "    ]\n"
      ]
    },
    {
      "cell_type": "code",
      "execution_count": 16,
      "metadata": {
        "id": "afqi2qomEmiC",
        "outputId": "cb201fdc-5f06-48d7-9161-fc651e9425f4",
        "colab": {
          "base_uri": "https://localhost:8080/",
          "height": 501
        }
      },
      "outputs": [
        {
          "output_type": "execute_result",
          "data": {
            "text/plain": [
              "<IPython.core.display.HTML object>"
            ],
            "text/html": [
              "\n",
              "<video width=\"640\" height=\"480\" controls>\n",
              "  <source src=\"data:video/mp4;base64,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\" type=\"video/mp4\">\n",
              "</video>\n"
            ]
          },
          "metadata": {},
          "execution_count": 16
        }
      ],
      "source": [
        "# Show video. This may not work in some setups. If it doesn't\n",
        "# work for you, you can download the videos and view them locally.\n",
        "\n",
        "from pathlib import Path\n",
        "from base64 import b64encode\n",
        "from IPython.display import HTML\n",
        "\n",
        "video_paths = sorted([s for s in Path('videos').iterdir() if s.suffix == '.mp4'])\n",
        "video_path = video_paths[-1]  # You can also try other indices\n",
        "\n",
        "if 'google.colab' in sys.modules:\n",
        "    # https://stackoverflow.com/a/57378660/1214547\n",
        "    with video_path.open('rb') as fp:\n",
        "        mp4 = fp.read()\n",
        "    data_url = 'data:video/mp4;base64,' + b64encode(mp4).decode()\n",
        "else:\n",
        "    data_url = str(video_path)\n",
        "\n",
        "HTML(\"\"\"\n",
        "<video width=\"640\" height=\"480\" controls>\n",
        "  <source src=\"{}\" type=\"video/mp4\">\n",
        "</video>\n",
        "\"\"\".format(data_url))"
      ]
    },
    {
      "cell_type": "code",
      "source": [],
      "metadata": {
        "id": "B5YMQYpUOqC2"
      },
      "execution_count": null,
      "outputs": []
    }
  ],
  "metadata": {
    "colab": {
      "provenance": []
    },
    "kernelspec": {
      "display_name": "Python 3",
      "name": "python3"
    },
    "language_info": {
      "name": "python"
    }
  },
  "nbformat": 4,
  "nbformat_minor": 0
}