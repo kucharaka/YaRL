{
  "cells": [
    {
      "cell_type": "markdown",
      "metadata": {
        "id": "LaG6nOcUogy7"
      },
      "source": [
        "## Reinforcement Learning for seq2seq\n",
        "\n",
        "This time we'll solve a problem of transсribing Hebrew words in English, also known as g2p (grapheme2phoneme)\n",
        "\n",
        " * word (sequence of letters in source language) -> translation (sequence of letters in target language)\n",
        "\n",
        "Unlike what most deep learning practitioners do, we won't only train it to maximize likelihood of correct translation, but also employ reinforcement learning to actually teach it to translate with as few errors as possible.\n",
        "\n",
        "\n",
        "### About the task\n",
        "\n",
        "One notable property of Hebrew is that it's a consonant language. That is, there are no vowels in the written language. One could represent vowels with diacritics above consonants, but you don't expect people to do that in everyday life.\n",
        "\n",
        "Therefore, some Hebrew characters will correspond to several English letters and others - to none, so we should use encoder-decoder architecture to figure that out.\n",
        "\n",
        "![img](https://esciencegroup.files.wordpress.com/2016/03/seq2seq.jpg)\n",
        "_(img: esciencegroup.files.wordpress.com)_\n",
        "\n",
        "Encoder-decoder architectures are about converting anything to anything, including\n",
        " * Machine translation and spoken dialogue systems\n",
        " * [Image captioning](https://cocodataset.org/#captions-2015) and [image2latex](https://htmlpreview.github.io/?https://github.com/openai/requests-for-research/blob/master/_requests_for_research/im2latex.html) (convolutional encoder, recurrent decoder)\n",
        " * Generating [images by captions](https://arxiv.org/abs/1511.02793) (recurrent encoder, convolutional decoder)\n",
        " * Grapheme2phoneme - convert words to transcripts\n",
        "\n",
        "We chose simplified __Hebrew->English__ machine translation for words and short phrases (character-level), as it is relatively quick to train even without a gpu cluster."
      ]
    },
    {
      "cell_type": "code",
      "execution_count": 1,
      "metadata": {
        "id": "oFGjrFXTogy-",
        "outputId": "207a7e76-f93b-4b38-df90-4a0c5a1e3ff9",
        "colab": {
          "base_uri": "https://localhost:8080/"
        }
      },
      "outputs": [
        {
          "output_type": "stream",
          "name": "stdout",
          "text": [
            "--2025-09-21 23:35:47--  https://raw.githubusercontent.com/yandexdataschool/Practical_RL/master/week07_seq2seq/basic_model_torch.py\n",
            "Resolving raw.githubusercontent.com (raw.githubusercontent.com)... 185.199.108.133, 185.199.109.133, 185.199.110.133, ...\n",
            "Connecting to raw.githubusercontent.com (raw.githubusercontent.com)|185.199.108.133|:443... connected.\n",
            "HTTP request sent, awaiting response... 200 OK\n",
            "Length: 7322 (7.2K) [text/plain]\n",
            "Saving to: ‘basic_model_torch.py’\n",
            "\n",
            "\rbasic_model_torch.p   0%[                    ]       0  --.-KB/s               \rbasic_model_torch.p 100%[===================>]   7.15K  --.-KB/s    in 0s      \n",
            "\n",
            "2025-09-21 23:35:47 (60.4 MB/s) - ‘basic_model_torch.py’ saved [7322/7322]\n",
            "\n",
            "--2025-09-21 23:35:47--  https://raw.githubusercontent.com/yandexdataschool/Practical_RL/master/week07_seq2seq/main_dataset.txt\n",
            "Resolving raw.githubusercontent.com (raw.githubusercontent.com)... 185.199.108.133, 185.199.109.133, 185.199.110.133, ...\n",
            "Connecting to raw.githubusercontent.com (raw.githubusercontent.com)|185.199.108.133|:443... connected.\n",
            "HTTP request sent, awaiting response... 200 OK\n",
            "Length: 8305565 (7.9M) [text/plain]\n",
            "Saving to: ‘main_dataset.txt’\n",
            "\n",
            "main_dataset.txt    100%[===================>]   7.92M  --.-KB/s    in 0.07s   \n",
            "\n",
            "2025-09-21 23:35:48 (113 MB/s) - ‘main_dataset.txt’ saved [8305565/8305565]\n",
            "\n",
            "--2025-09-21 23:35:48--  https://raw.githubusercontent.com/yandexdataschool/Practical_RL/master/week07_seq2seq/voc.py\n",
            "Resolving raw.githubusercontent.com (raw.githubusercontent.com)... 185.199.108.133, 185.199.109.133, 185.199.110.133, ...\n",
            "Connecting to raw.githubusercontent.com (raw.githubusercontent.com)|185.199.108.133|:443... connected.\n",
            "HTTP request sent, awaiting response... 200 OK\n",
            "Length: 2581 (2.5K) [text/plain]\n",
            "Saving to: ‘voc.py’\n",
            "\n",
            "voc.py              100%[===================>]   2.52K  --.-KB/s    in 0s      \n",
            "\n",
            "2025-09-21 23:35:48 (30.5 MB/s) - ‘voc.py’ saved [2581/2581]\n",
            "\n",
            "\u001b[31mERROR: Could not find a version that satisfies the requirement torch==1.0.0 (from versions: 2.2.0, 2.2.1, 2.2.2, 2.3.0, 2.3.1, 2.4.0, 2.4.1, 2.5.0, 2.5.1, 2.6.0, 2.7.0, 2.7.1, 2.8.0)\u001b[0m\u001b[31m\n",
            "\u001b[0m\u001b[31mERROR: No matching distribution found for torch==1.0.0\u001b[0m\u001b[31m\n",
            "\u001b[0m"
          ]
        }
      ],
      "source": [
        "import sys\n",
        "if 'google.colab' in sys.modules:\n",
        "    !wget https://raw.githubusercontent.com/yandexdataschool/Practical_RL/master/week07_seq2seq/basic_model_torch.py -O basic_model_torch.py\n",
        "    !wget https://raw.githubusercontent.com/yandexdataschool/Practical_RL/master/week07_seq2seq/main_dataset.txt -O main_dataset.txt\n",
        "    !wget https://raw.githubusercontent.com/yandexdataschool/Practical_RL/master/week07_seq2seq/voc.py -O voc.py\n",
        "    !pip3 install torch==1.0.0 nltk editdistance"
      ]
    },
    {
      "cell_type": "code",
      "execution_count": 2,
      "metadata": {
        "id": "RojQsVcdogy_"
      },
      "outputs": [],
      "source": [
        "# If True, only translates phrases shorter than 20 characters (way easier).\n",
        "EASY_MODE = True\n",
        "# Useful for initial coding.\n",
        "# If false, works with all phrases (please switch to this mode for homework assignment)\n",
        "\n",
        "# way we translate. Either \"he-to-en\" or \"en-to-he\"\n",
        "MODE = \"he-to-en\"\n",
        "# maximal length of _generated_ output, does not affect training\n",
        "MAX_OUTPUT_LENGTH = 50 if not EASY_MODE else 20\n",
        "REPORT_FREQ = 100                          # how often to evaluate validation score"
      ]
    },
    {
      "cell_type": "markdown",
      "metadata": {
        "id": "FF9Zmtd7ogy_"
      },
      "source": [
        "### Step 1: preprocessing\n",
        "\n",
        "We shall store dataset as a dictionary\n",
        "`{ word1:[translation1,translation2,...], word2:[...],...}`.\n",
        "\n",
        "This is mostly due to the fact that many words have several correct translations.\n",
        "\n",
        "We have implemented this thing for you so that you can focus on more interesting parts."
      ]
    },
    {
      "cell_type": "code",
      "execution_count": 3,
      "metadata": {
        "id": "Bp1UcZJvogy_",
        "outputId": "e3799079-cd1b-49ae-c66c-0470f69b93be",
        "colab": {
          "base_uri": "https://localhost:8080/"
        }
      },
      "outputs": [
        {
          "output_type": "stream",
          "name": "stdout",
          "text": [
            "size =  130114\n"
          ]
        }
      ],
      "source": [
        "import numpy as np\n",
        "from collections import defaultdict\n",
        "word_to_translation = defaultdict(list)  # our dictionary\n",
        "\n",
        "bos = '_'\n",
        "eos = ';'\n",
        "\n",
        "with open(\"main_dataset.txt\", encoding=\"utf-8\") as fin:\n",
        "    for line in fin:\n",
        "\n",
        "        en, he = line[:-1].lower().replace(bos, ' ').replace(eos,\n",
        "                                                             ' ').split('\\t')\n",
        "        word, trans = (he, en) if MODE == 'he-to-en' else (en, he)\n",
        "\n",
        "        if len(word) < 3:\n",
        "            continue\n",
        "        if EASY_MODE:\n",
        "            if max(len(word), len(trans)) > 20:\n",
        "                continue\n",
        "\n",
        "        word_to_translation[word].append(trans)\n",
        "\n",
        "print(\"size = \", len(word_to_translation))"
      ]
    },
    {
      "cell_type": "code",
      "execution_count": 4,
      "metadata": {
        "id": "ra_ucGiIogy_"
      },
      "outputs": [],
      "source": [
        "# get all unique lines in source language\n",
        "all_words = np.array(list(word_to_translation.keys()))\n",
        "# get all unique lines in translation language\n",
        "all_translations = np.array(list(set(\n",
        "    [ts for all_ts in word_to_translation.values() for ts in all_ts])))"
      ]
    },
    {
      "cell_type": "markdown",
      "metadata": {
        "id": "CS06SU6fogzA"
      },
      "source": [
        "### split the dataset\n",
        "\n",
        "We hold out 10% of all words to be used for validation.\n"
      ]
    },
    {
      "cell_type": "code",
      "execution_count": 5,
      "metadata": {
        "id": "WuTNhFHvogzA"
      },
      "outputs": [],
      "source": [
        "from sklearn.model_selection import train_test_split\n",
        "train_words, test_words = train_test_split(\n",
        "    all_words, test_size=0.1, random_state=42)"
      ]
    },
    {
      "cell_type": "markdown",
      "metadata": {
        "id": "9mZdF3d6ogzA"
      },
      "source": [
        "### Building vocabularies\n",
        "\n",
        "We now need to build vocabularies that map strings to token ids and vice versa. We're gonna need these fellas when we feed training data into the model or convert output matrices into English words."
      ]
    },
    {
      "cell_type": "code",
      "execution_count": 6,
      "metadata": {
        "id": "UvkwDu16ogzA"
      },
      "outputs": [],
      "source": [
        "from voc import Vocab\n",
        "inp_voc = Vocab.from_lines(''.join(all_words), bos=bos, eos=eos, sep='')\n",
        "out_voc = Vocab.from_lines(''.join(all_translations), bos=bos, eos=eos, sep='')"
      ]
    },
    {
      "cell_type": "code",
      "execution_count": 7,
      "metadata": {
        "id": "XHhWbU7kogzA",
        "outputId": "42a3f750-b7bb-41fc-f397-d3308bb97762",
        "colab": {
          "base_uri": "https://localhost:8080/"
        }
      },
      "outputs": [
        {
          "output_type": "stream",
          "name": "stdout",
          "text": [
            "lines\n",
            "['משתמש:צלף/!' 'סימן קריאה' 'תבנית:!!' '$9.99' \"תבנית:'\"]\n",
            "\n",
            "words to ids (0 = bos, 1 = eos):\n",
            "[[  0 127 138 139 127 138  27 135 125 132  16   3   1]\n",
            " [  0 130 122 127 128   2 136 137 122 113 117   1   1]\n",
            " [  0 139 114 129 122 139  27   3   3   1   1   1   1]\n",
            " [  0   6  26  15  26  26   1   1   1   1   1   1   1]\n",
            " [  0 139 114 129 122 139  27   8   1   1   1   1   1]]\n",
            "\n",
            "back to words\n",
            "['משתמש:צלף/!', 'סימן קריאה', 'תבנית:!!', '$9.99', \"תבנית:'\"]\n"
          ]
        }
      ],
      "source": [
        "# Here's how you cast lines into ids and backwards.\n",
        "batch_lines = all_words[:5]\n",
        "batch_ids = inp_voc.to_matrix(batch_lines)\n",
        "batch_lines_restored = inp_voc.to_lines(batch_ids)\n",
        "\n",
        "print(\"lines\")\n",
        "print(batch_lines)\n",
        "print(\"\\nwords to ids (0 = bos, 1 = eos):\")\n",
        "print(batch_ids)\n",
        "print(\"\\nback to words\")\n",
        "print(batch_lines_restored)"
      ]
    },
    {
      "cell_type": "markdown",
      "metadata": {
        "id": "AHKaKVFWogzA"
      },
      "source": [
        "Draw word/translation length distributions to estimate the scope of the task."
      ]
    },
    {
      "cell_type": "code",
      "execution_count": 8,
      "metadata": {
        "id": "6NSnyUUCogzA",
        "outputId": "897358f4-321e-4031-f3f0-2eb2a3b9782e",
        "colab": {
          "base_uri": "https://localhost:8080/",
          "height": 510
        }
      },
      "outputs": [
        {
          "output_type": "execute_result",
          "data": {
            "text/plain": [
              "(array([   16.,    67.,  1893.,  4238.,  6268.,  8015.,  8186.,  7720.,\n",
              "         7837.,  8957.,  9696., 10609., 10733., 10246.,  9015.,  7622.,\n",
              "         6313.,  5386.,  4372.,  3587.]),\n",
              " array([ 1.  ,  1.95,  2.9 ,  3.85,  4.8 ,  5.75,  6.7 ,  7.65,  8.6 ,\n",
              "         9.55, 10.5 , 11.45, 12.4 , 13.35, 14.3 , 15.25, 16.2 , 17.15,\n",
              "        18.1 , 19.05, 20.  ]),\n",
              " <BarContainer object of 20 artists>)"
            ]
          },
          "metadata": {},
          "execution_count": 8
        },
        {
          "output_type": "display_data",
          "data": {
            "text/plain": [
              "<Figure size 800x400 with 2 Axes>"
            ],
            "image/png": "[encoded data removed]"
          },
          "metadata": {}
        }
      ],
      "source": [
        "import matplotlib.pyplot as plt\n",
        "%matplotlib inline\n",
        "plt.figure(figsize=[8, 4])\n",
        "plt.subplot(1, 2, 1)\n",
        "plt.title(\"words\")\n",
        "plt.hist(list(map(len, all_words)), bins=20)\n",
        "\n",
        "plt.subplot(1, 2, 2)\n",
        "plt.title('translations')\n",
        "plt.hist(list(map(len, all_translations)), bins=20)"
      ]
    },
    {
      "cell_type": "markdown",
      "metadata": {
        "id": "MZQcWtCkogzB"
      },
      "source": [
        "### Step 3: deploy encoder-decoder (1 point)\n",
        "\n",
        "__assignment starts here__\n",
        "\n",
        "Our architecture consists of two main blocks:\n",
        "* Encoder reads words character by character and outputs code vector (usually a function of last RNN state)\n",
        "* Decoder takes that code vector and produces translations character by character\n",
        "\n",
        "Then it gets fed into a model that follows this simple interface:\n",
        "* __`model(inp, out, **flags) -> logp`__ - takes symbolic int32 matrices of Hebrew words and their English translations. Computes the log-probabilities of all possible English characters given English prefixes and Hebrew word.\n",
        "* __`model.translate(inp, **flags) -> out, logp`__ - takes symbolic int32 matrix of Hebrew words, produces output tokens sampled from the model and output log-probabilities for all possible tokens at each tick.\n",
        "  * if given flag __`greedy=True`__, takes most likely next token at each iteration. Otherwise, samples with next token probabilities predicted by model.\n",
        "\n",
        "That's all! It's as hard as it gets. With those two methods alone, you can implement all kinds of prediction and training."
      ]
    },
    {
      "cell_type": "code",
      "execution_count": 9,
      "metadata": {
        "id": "3AlKtJ4BogzB"
      },
      "outputs": [],
      "source": [
        "import torch\n",
        "import torch.nn as nn\n",
        "import torch.nn.functional as F"
      ]
    },
    {
      "cell_type": "code",
      "execution_count": 10,
      "metadata": {
        "id": "KBOVLmS6ogzB"
      },
      "outputs": [],
      "source": [
        "from basic_model_torch import BasicTranslationModel\n",
        "model = BasicTranslationModel(inp_voc, out_voc,\n",
        "                              emb_size=64, hid_size=256)"
      ]
    },
    {
      "cell_type": "code",
      "execution_count": 11,
      "metadata": {
        "id": "10xhd_H7ogzB",
        "outputId": "98651d87-4366-4db9-f4e2-3153b03d790f",
        "colab": {
          "base_uri": "https://localhost:8080/"
        }
      },
      "outputs": [
        {
          "output_type": "stream",
          "name": "stdout",
          "text": [
            "Sample translations:\n",
            " tensor([[  0, 205, 248,  90, 233, 161, 240, 242, 144, 267, 138, 254, 177, 220,\n",
            "         202, 154, 129, 282, 248, 165, 260,  52,  27, 261,  80, 152,  43, 241,\n",
            "         116, 108,  53,  87, 136, 199, 114, 164,  59, 124,  37, 267, 150, 211,\n",
            "         107, 189, 201,  20, 216,  80, 248, 235,  17, 144, 271, 222, 103,  33,\n",
            "         243, 265, 230,  78, 255, 144,  49, 180,  51,  79, 275,  44, 171, 233,\n",
            "         134, 212,  38, 205, 165, 200,  82, 122, 130, 220,  85,  20,  76, 100,\n",
            "         224, 150, 231, 275, 126, 215, 123,  92, 161, 155, 113, 102,  80, 114,\n",
            "         138,  29,  17, 135, 199, 123,  71, 175,  36, 110, 153, 123,  44, 215,\n",
            "         219, 195,  14,  88, 182, 279, 260, 176,  44,  37, 158,  36,  34, 195,\n",
            "          99, 138, 219, 216, 274,  86,  35,  55, 206, 218, 224,  82,  94, 152,\n",
            "         133, 159, 235, 224, 112, 256, 149, 102,  92, 113, 114, 137, 240,  41,\n",
            "         255,  82,  67,  87, 105,   0, 195, 182,  53, 266, 101,  80,  30,  24,\n",
            "         135, 160, 100, 271, 192,  89, 228, 165, 124, 271, 172, 147,  10,  30,\n",
            "         186, 254, 163, 212, 224, 130, 192, 127,  32, 225, 200, 198,   6, 255,\n",
            "          47,  99,  16, 163, 254, 219, 209, 173, 142,  20, 230,  82,  52, 194,\n",
            "         198, 105, 102, 107, 112, 207,  86, 230, 215, 116, 253, 130, 221,  29,\n",
            "         125,  84,  48, 160, 127, 174,  89, 101, 177,  11, 243, 249,   8, 165,\n",
            "          53,  57, 181, 147, 126, 125, 173,  24, 195,  87,  76,   1,  65, 113,\n",
            "         225, 215,  25,  46, 156,  48, 241,  85, 219,   5, 116, 178],\n",
            "        [  0,  84, 135, 244, 102,  10, 130,  31, 207,   3, 212, 182, 131, 171,\n",
            "          37, 221, 180, 121, 112,  81, 183,  88,  50, 260,  46,  98, 236,  81,\n",
            "         106,  54, 174, 239, 281, 252, 137, 140,  33, 252,  56,  61, 244, 214,\n",
            "         147,  46, 159,  94,   3, 163, 189, 205, 131,  97, 176,  99, 281,  96,\n",
            "         276, 183,   5, 233,  76, 202,  52,  49, 147, 120, 225,  52, 230,  51,\n",
            "          32,  46,  99, 251, 207,  89, 242, 126,  24, 229,   7, 260, 224, 232,\n",
            "          71, 118,  89, 209, 179, 176, 154, 134, 281, 272,  30, 256,  47,  98,\n",
            "          99, 186, 156,  97,  13,  46, 218, 209,  33,  73, 160, 155,  73, 275,\n",
            "          75, 210, 195,  75, 154,  93, 212, 239,  84, 262, 174, 165,  72, 142,\n",
            "         215,  54,  65, 140, 128,  96, 110, 259, 189, 213, 153, 216, 223, 195,\n",
            "         129, 247, 230,  35,  85,  68,  84, 204, 155, 191, 156,   5, 282,  71,\n",
            "         229,  52,  92,  82, 223,  41,  11,  66, 117,  66, 279, 153, 117, 240,\n",
            "         109,  37,  28, 182,   9, 279, 171,  47, 218,  56, 137, 158,   1,  10,\n",
            "         219, 244, 108,  87, 213,  86, 271, 223,  97, 109,  25, 212, 190,  94,\n",
            "          66, 167, 149, 138,   8, 119, 115,  37, 139, 234, 186, 193,  63,  43,\n",
            "         221, 148, 100, 248, 263, 183,  83,  91, 186, 121, 134, 137, 200,  32,\n",
            "         247, 103,  60, 242,   7, 136, 171, 130, 250,  48, 149, 237,  39, 120,\n",
            "           1, 116, 143, 173, 185,   3, 251, 184, 209,  21,  67, 148, 198,  58,\n",
            "         234, 213, 109, 107, 214, 147, 175, 229, 281, 215,   9,   3],\n",
            "        [  0, 103, 108, 207, 248,  30, 164,   4,  31,  98,  23, 224, 267,  30,\n",
            "           5, 108,  84, 231, 238, 143, 201,  48, 268, 249, 277, 266, 141,  23,\n",
            "          18, 152, 131,  27,  97, 186, 277, 141,  12,  70,  11, 161, 112,  49,\n",
            "         108, 238, 181, 167,  18, 127, 196, 132, 161, 273, 175,  71, 281, 144,\n",
            "         230, 191, 106, 252,  29, 146,  73, 239, 183,  29, 192, 124,  35, 205,\n",
            "          31, 117, 192,  46, 161, 127,  38,  61, 109, 235, 221,   4, 172, 166,\n",
            "         282, 266,  90, 227, 251,  23, 107, 101, 184, 269, 222, 228,   0,  83,\n",
            "         258, 272,   8, 282, 181,  47, 146,   6, 185, 103, 271, 260, 111, 101,\n",
            "         256,  98, 124, 170,  11, 157, 158, 209, 108, 248, 165, 197, 145, 239,\n",
            "          34, 206,   0, 194, 224,  22, 269,  94, 196, 138, 159, 240, 267,  76,\n",
            "         121,  24, 143, 255, 211, 195,  69, 177,  16, 171, 218, 236, 270, 117,\n",
            "         126, 138,  69, 227, 112, 168, 221,  12, 163, 270, 175, 138, 140, 179,\n",
            "         262,  84, 173,  81, 189, 129, 192,  89,  53, 126, 107, 150, 132, 185,\n",
            "         165, 169, 152,  70,  85, 207, 238, 161, 211, 271, 186, 181, 143, 116,\n",
            "         175, 106, 255, 169, 242, 242, 196,  28, 199, 107, 144,  70, 178, 235,\n",
            "          82, 223, 270,  19,  63, 119, 253,  14, 111, 273, 240, 202, 274,  73,\n",
            "         174, 196,  82,  91, 256, 220, 218,  18,  42, 210,  97, 213,  80, 219,\n",
            "         253, 154,  55, 223, 175, 143,  46, 169,  95, 273, 147,  88, 110, 137,\n",
            "         214, 239,  61,  66,  96, 162,  47,  21, 247, 111, 244,   1]])\n",
            "Log-probabilities at each step:\n",
            " tensor([[[  0.0000, -69.0776, -69.0776,  ..., -69.0776, -69.0776, -69.0776],\n",
            "         [ -5.4621,  -5.5647,  -5.5070,  ...,  -5.7794,  -5.6937,  -5.6168],\n",
            "         [ -5.5026,  -5.6289,  -5.4308,  ...,  -5.8485,  -5.5894,  -5.6197],\n",
            "         ...,\n",
            "         [ -5.4838,  -5.7489,  -5.3652,  ...,  -5.7430,  -5.7266,  -5.4999],\n",
            "         [ -5.5550,  -5.7457,  -5.6043,  ...,  -5.6946,  -5.7515,  -5.6572],\n",
            "         [ -5.5377,  -5.6833,  -5.6162,  ...,  -5.7542,  -5.8495,  -5.8229]],\n",
            "\n",
            "        [[  0.0000, -69.0776, -69.0776,  ..., -69.0776, -69.0776, -69.0776],\n",
            "         [ -5.4880,  -5.6432,  -5.5115,  ...,  -5.7637,  -5.7223,  -5.6333],\n",
            "         [ -5.5498,  -5.6272,  -5.5229,  ...,  -5.6637,  -5.7938,  -5.5567],\n",
            "         ...,\n",
            "         [ -5.5242,  -5.7548,  -5.6013,  ...,  -5.8225,  -5.8068,  -5.6271],\n",
            "         [ -5.5195,  -5.4830,  -5.5302,  ...,  -5.7386,  -5.7822,  -5.7032],\n",
            "         [ -5.5824,  -5.6171,  -5.4898,  ...,  -5.7463,  -5.7211,  -5.7280]],\n",
            "\n",
            "        [[  0.0000, -69.0776, -69.0776,  ..., -69.0776, -69.0776, -69.0776],\n",
            "         [ -5.5001,  -5.6614,  -5.5584,  ...,  -5.7464,  -5.7042,  -5.5763],\n",
            "         [ -5.6280,  -5.6286,  -5.6180,  ...,  -5.7900,  -5.7642,  -5.6573],\n",
            "         ...,\n",
            "         [ -5.6117,  -5.6846,  -5.4809,  ...,  -5.7929,  -5.6775,  -5.8810],\n",
            "         [ -5.7222,  -5.7595,  -5.6977,  ...,  -5.7443,  -5.5724,  -5.7696],\n",
            "         [ -5.6689,  -5.5978,  -5.7237,  ...,  -5.6553,  -5.7573,  -5.8230]]],\n",
            "       grad_fn=<LogSoftmaxBackward0>)\n"
          ]
        }
      ],
      "source": [
        "# Play around with symbolic_translate and symbolic_score\n",
        "inp = torch.tensor(np.random.randint(0, 10, [3, 5]), dtype=torch.int64)\n",
        "out = torch.tensor(np.random.randint(0, 10, [3, 5]), dtype=torch.int64)\n",
        "\n",
        "# translate inp (with untrained model)\n",
        "sampled_out, logp = model.translate(inp, greedy=False)\n",
        "\n",
        "print(\"Sample translations:\\n\", sampled_out)\n",
        "print(\"Log-probabilities at each step:\\n\", logp)"
      ]
    },
    {
      "cell_type": "code",
      "execution_count": 12,
      "metadata": {
        "id": "h_g9eA7cogzB",
        "outputId": "3f395f11-3ebf-47ba-d6f6-49e403d09c98",
        "colab": {
          "base_uri": "https://localhost:8080/"
        }
      },
      "outputs": [
        {
          "output_type": "stream",
          "name": "stdout",
          "text": [
            "Symbolic_score output:\n",
            " tensor([[[  0.0000, -69.0776, -69.0776,  ..., -69.0776, -69.0776, -69.0776],\n",
            "         [ -5.6043,  -5.6508,  -5.6576,  ...,  -5.6815,  -5.7469,  -5.7411],\n",
            "         [ -5.4826,  -5.4556,  -5.6794,  ...,  -5.6797,  -5.7116,  -5.6863],\n",
            "         [ -5.5569,  -5.6089,  -5.5416,  ...,  -5.7119,  -5.6853,  -5.7486],\n",
            "         [ -5.6465,  -5.6005,  -5.4891,  ...,  -5.7379,  -5.6726,  -5.6228]],\n",
            "\n",
            "        [[  0.0000, -69.0776, -69.0776,  ..., -69.0776, -69.0776, -69.0776],\n",
            "         [ -5.6331,  -5.7208,  -5.6734,  ...,  -5.6602,  -5.7744,  -5.7449],\n",
            "         [ -5.6529,  -5.7936,  -5.6813,  ...,  -5.6717,  -5.8120,  -5.7732],\n",
            "         [ -5.7399,  -5.8122,  -5.6557,  ...,  -5.7230,  -5.8135,  -5.6905],\n",
            "         [ -5.7260,  -5.7802,  -5.5429,  ...,  -5.7616,  -5.7602,  -5.7328]],\n",
            "\n",
            "        [[  0.0000, -69.0776, -69.0776,  ..., -69.0776, -69.0776, -69.0776],\n",
            "         [ -5.7100,  -5.7289,  -5.7125,  ...,  -5.6967,  -5.7398,  -5.5917],\n",
            "         [ -5.7266,  -5.6377,  -5.5977,  ...,  -5.7319,  -5.6915,  -5.5476],\n",
            "         [ -5.7422,  -5.7223,  -5.6159,  ...,  -5.7372,  -5.7587,  -5.5550],\n",
            "         [ -5.5711,  -5.7060,  -5.4905,  ...,  -5.8076,  -5.7770,  -5.5510]]],\n",
            "       grad_fn=<LogSoftmaxBackward0>)\n",
            "Log-probabilities of output tokens:\n",
            " tensor([[[-69.0776],\n",
            "         [ -5.6508],\n",
            "         [ -5.5594],\n",
            "         [ -5.5416],\n",
            "         [ -5.6345]],\n",
            "\n",
            "        [[-69.0776],\n",
            "         [ -5.6900],\n",
            "         [ -5.6101],\n",
            "         [ -5.6335],\n",
            "         [ -5.7802]],\n",
            "\n",
            "        [[-69.0776],\n",
            "         [ -5.7125],\n",
            "         [ -5.6281],\n",
            "         [ -5.7422],\n",
            "         [ -5.7523]]], grad_fn=<GatherBackward0>)\n"
          ]
        }
      ],
      "source": [
        "# score logp(out | inp) with untrained input\n",
        "logp = model(inp, out)\n",
        "print(\"Symbolic_score output:\\n\", logp)\n",
        "\n",
        "print(\"Log-probabilities of output tokens:\\n\",\n",
        "      torch.gather(logp, dim=2, index=out[:, :, None]))"
      ]
    },
    {
      "cell_type": "code",
      "execution_count": 14,
      "metadata": {
        "id": "-qU3usdkogzB"
      },
      "outputs": [],
      "source": [
        "def translate(lines, max_len=MAX_OUTPUT_LENGTH):\n",
        "    \"\"\"\n",
        "    Translate a list of input lines using the trained model.\n",
        "    :param lines: list of strings\n",
        "    :param max_len: maximum output length\n",
        "    :return: list of translated strings\n",
        "    \"\"\"\n",
        "    # Encode input strings as indices\n",
        "    lines_ix = inp_voc.to_matrix(lines)\n",
        "    lines_ix = torch.tensor(lines_ix, dtype=torch.int64)\n",
        "\n",
        "    # Decode back from model\n",
        "    trans_ix, logp = model.translate(lines_ix, greedy=True, max_len=max_len)\n",
        "\n",
        "    # Convert token ids back to strings\n",
        "    return out_voc.to_lines(trans_ix.data.numpy())\n"
      ]
    },
    {
      "cell_type": "code",
      "execution_count": 15,
      "metadata": {
        "id": "xrSIso1CogzB",
        "outputId": "589b9d88-cad6-488f-f9e0-cd07f57f0fd3",
        "colab": {
          "base_uri": "https://localhost:8080/"
        }
      },
      "outputs": [
        {
          "output_type": "stream",
          "name": "stdout",
          "text": [
            "Sample inputs: ['משתמש:צלף/!' 'סימן קריאה' 'תבנית:!!']\n",
            "Dummy translations: ['‘‘‘‘‘‘‘‘‘‘‘‘‘‘‘‘‘‘‘', '‘‘‘‘‘‘‘‘‘‘‘‘‘‘‘‘‘‘‘', '‘‘‘‘‘‘‘‘‘‘‘‘‘‘‘‘‘‘‘']\n",
            "Tests passed!\n"
          ]
        }
      ],
      "source": [
        "print(\"Sample inputs:\", all_words[:3])\n",
        "print(\"Dummy translations:\", translate(all_words[:3]))\n",
        "trans = translate(all_words[:3])\n",
        "\n",
        "assert translate(all_words[:3]) == translate(\n",
        "    all_words[:3]), \"make sure translation is deterministic (use greedy=True and disable any noise layers)\"\n",
        "assert type(translate(all_words[:3])) is list and (type(translate(all_words[:1])[0]) is str or type(\n",
        "    translate(all_words[:1])[0]) is unicode), \"translate(lines) must return a sequence of strings!\"\n",
        "# note: if translation freezes, make sure you used max_len parameter\n",
        "print(\"Tests passed!\")"
      ]
    },
    {
      "cell_type": "markdown",
      "metadata": {
        "id": "8MkIbe5MogzC"
      },
      "source": [
        "### Scoring function\n",
        "\n",
        "LogLikelihood is a poor estimator of model performance.\n",
        "* If we predict zero probability once, it shouldn't ruin the entire model.\n",
        "* It is enough to learn just one translation if there are several correct ones.\n",
        "* What matters is how many mistakes model's gonna make when it translates!\n",
        "\n",
        "Therefore, we will use minimal Levenshtein distance. It measures how many characters do we need to add/remove/replace from model translation to make it perfect. Alternatively, one could use character-level BLEU/RougeL or other similar metrics.\n",
        "\n",
        "The catch here is that Levenshtein distance is not differentiable: it isn't even continuous. We can't train our neural network to maximize it by gradient descent."
      ]
    },
    {
      "cell_type": "code",
      "execution_count": 16,
      "metadata": {
        "id": "ep9LixtxogzC"
      },
      "outputs": [],
      "source": [
        "import editdistance  # !pip install editdistance\n",
        "\n",
        "\n",
        "def get_distance(word, trans):\n",
        "    \"\"\"\n",
        "    A function that takes word and predicted translation\n",
        "    and evaluates (Levenshtein's) edit distance to closest correct translation\n",
        "    \"\"\"\n",
        "    references = word_to_translation[word]\n",
        "    assert len(references) != 0, \"wrong/unknown word\"\n",
        "    return min(editdistance.eval(trans, ref) for ref in references)\n",
        "\n",
        "\n",
        "def score(words, bsize=100):\n",
        "    \"\"\"a function that computes levenshtein distance for bsize random samples\"\"\"\n",
        "    assert isinstance(words, np.ndarray)\n",
        "\n",
        "    batch_words = np.random.choice(words, size=bsize, replace=False)\n",
        "    batch_trans = translate(batch_words)\n",
        "\n",
        "    distances = list(map(get_distance, batch_words, batch_trans))\n",
        "\n",
        "    return np.array(distances, dtype='float32')"
      ]
    },
    {
      "cell_type": "code",
      "execution_count": 17,
      "metadata": {
        "id": "f9pzsClKogzC",
        "outputId": "d6326494-d7aa-471b-9c5a-e92fdf3d2948",
        "colab": {
          "base_uri": "https://localhost:8080/"
        }
      },
      "outputs": [
        {
          "output_type": "execute_result",
          "data": {
            "text/plain": [
              "[np.float32(19.1),\n",
              " np.float32(19.2),\n",
              " np.float32(19.0),\n",
              " np.float32(19.0),\n",
              " np.float32(19.0)]"
            ]
          },
          "metadata": {},
          "execution_count": 17
        }
      ],
      "source": [
        "# should be around 5-50 and decrease rapidly after training :)\n",
        "[score(test_words, 10).mean() for _ in range(5)]"
      ]
    },
    {
      "cell_type": "markdown",
      "metadata": {
        "id": "28xxDB2JogzC"
      },
      "source": [
        "## Step 2: Supervised pre-training (2 points)\n",
        "\n",
        "Here we define a function that trains our model through maximizing log-likelihood a.k.a. minimizing crossentropy."
      ]
    },
    {
      "cell_type": "code",
      "execution_count": 18,
      "metadata": {
        "id": "KAxz_ZHLogzC"
      },
      "outputs": [],
      "source": [
        "import random\n",
        "\n",
        "\n",
        "def sample_batch(words, word_to_translation, batch_size):\n",
        "    \"\"\"\n",
        "    sample random batch of words and random correct translation for each word\n",
        "    example usage:\n",
        "    batch_x,batch_y = sample_batch(train_words, word_to_translations,10)\n",
        "    \"\"\"\n",
        "    # choose words\n",
        "    batch_words = np.random.choice(words, size=batch_size)\n",
        "\n",
        "    # choose translations\n",
        "    batch_trans_candidates = list(map(word_to_translation.get, batch_words))\n",
        "    batch_trans = list(map(random.choice, batch_trans_candidates))\n",
        "    return batch_words, batch_trans"
      ]
    },
    {
      "cell_type": "code",
      "execution_count": 19,
      "metadata": {
        "id": "HfzqLCILogzC",
        "outputId": "fac3e8da-ee69-4bba-87f1-2fbe0568cde7",
        "colab": {
          "base_uri": "https://localhost:8080/"
        }
      },
      "outputs": [
        {
          "output_type": "stream",
          "name": "stdout",
          "text": [
            "Source:\n",
            "['אומנת' 'אברהם בלום' \"התנועה הצ'רטיסטית\"]\n",
            "Target:\n",
            "['nanny', 'abraham blum', 'chartism']\n"
          ]
        }
      ],
      "source": [
        "bx, by = sample_batch(train_words, word_to_translation, batch_size=3)\n",
        "print(\"Source:\")\n",
        "print(bx)\n",
        "print(\"Target:\")\n",
        "print(by)"
      ]
    },
    {
      "cell_type": "code",
      "execution_count": 23,
      "metadata": {
        "id": "YCtspsX4ogzC"
      },
      "outputs": [],
      "source": [
        "from basic_model_torch import infer_length, infer_mask, to_one_hot\n",
        "\n",
        "\n",
        "def compute_loss_on_batch(input_sequence, reference_answers):\n",
        "    \"\"\" Compute crossentropy loss given a batch of sources and translations \"\"\"\n",
        "    input_sequence = torch.tensor(inp_voc.to_matrix(input_sequence), dtype=torch.int64)\n",
        "    reference_answers = torch.tensor(out_voc.to_matrix(reference_answers), dtype=torch.int64)\n",
        "\n",
        "    # Compute log-probabilities of all possible tokens at each step. Use model interface.\n",
        "    logprobs_seq = model(input_sequence, reference_answers)\n",
        "\n",
        "    # compute elementwise crossentropy as negative log-probabilities of reference_answers.\n",
        "    crossentropy = - \\\n",
        "        torch.sum(logprobs_seq *\n",
        "                  to_one_hot(reference_answers, len(out_voc)), dim=-1)\n",
        "    assert crossentropy.dim(\n",
        "    ) == 2, \"please return elementwise crossentropy, don't compute mean just yet\"\n",
        "\n",
        "    # average with mask\n",
        "    mask = infer_mask(reference_answers, out_voc.eos_ix)\n",
        "    loss = torch.sum(crossentropy * mask) / torch.sum(mask)\n",
        "\n",
        "    return loss"
      ]
    },
    {
      "cell_type": "code",
      "execution_count": 24,
      "metadata": {
        "id": "QHgXitQEogzD",
        "outputId": "393cc3ff-033b-4df4-b657-da188ab63cd0",
        "colab": {
          "base_uri": "https://localhost:8080/"
        }
      },
      "outputs": [
        {
          "output_type": "stream",
          "name": "stdout",
          "text": [
            "loss =  tensor(5.3106, grad_fn=<DivBackward0>)\n"
          ]
        }
      ],
      "source": [
        "# test it\n",
        "loss = compute_loss_on_batch(*sample_batch(train_words, word_to_translation, 3))\n",
        "print('loss = ', loss)\n",
        "\n",
        "assert loss.item() > 0.0\n",
        "loss.backward()\n",
        "for w in model.parameters():\n",
        "    assert w.grad is not None and torch.max(torch.abs(w.grad)).item() != 0, \\\n",
        "        \"Loss is not differentiable w.r.t. a weight with shape %s. Check comput_loss_on_batch.\" % (\n",
        "            w.size(),)"
      ]
    },
    {
      "cell_type": "markdown",
      "metadata": {
        "id": "f0zDV_HlogzD"
      },
      "source": [
        "##### Actually train the model\n",
        "\n",
        "Minibatches and stuff..."
      ]
    },
    {
      "cell_type": "code",
      "execution_count": 25,
      "metadata": {
        "id": "-mmyo6EAogzD"
      },
      "outputs": [],
      "source": [
        "from IPython.display import clear_output\n",
        "from tqdm import tqdm, trange  # or use tqdm_notebook,tnrange\n",
        "\n",
        "loss_history = []\n",
        "editdist_history = []\n",
        "entropy_history = []\n",
        "opt = torch.optim.Adam(model.parameters())"
      ]
    },
    {
      "cell_type": "code",
      "execution_count": 26,
      "metadata": {
        "id": "50SbqQaWogzD",
        "outputId": "759fcbd4-bcd4-421e-e7d7-5e4b5e762acd",
        "colab": {
          "base_uri": "https://localhost:8080/",
          "height": 425
        }
      },
      "outputs": [
        {
          "output_type": "stream",
          "name": "stdout",
          "text": [
            "llh=1.462, mean score=7.556\n"
          ]
        },
        {
          "output_type": "display_data",
          "data": {
            "text/plain": [
              "<Figure size 1200x400 with 3 Axes>"
            ],
            "image/png": "[encoded data removed]"
          },
          "metadata": {}
        },
        {
          "output_type": "stream",
          "name": "stderr",
          "text": [
            "\r100%|██████████| 2500/2500 [04:02<00:00, 10.31it/s]\n"
          ]
        }
      ],
      "source": [
        "\n",
        "\n",
        "for i in trange(2500):\n",
        "    loss = compute_loss_on_batch(*sample_batch(train_words, word_to_translation, 32))\n",
        "\n",
        "    # train with backprop\n",
        "    loss.backward()\n",
        "    opt.step()\n",
        "    opt.zero_grad()\n",
        "\n",
        "    loss_history.append(loss.item())\n",
        "\n",
        "    if (i+1) % REPORT_FREQ == 0:\n",
        "        clear_output(True)\n",
        "        current_scores = score(test_words)\n",
        "        editdist_history.append(current_scores.mean())\n",
        "        print(\"llh=%.3f, mean score=%.3f\" %\n",
        "              (np.mean(loss_history[-10:]), np.mean(editdist_history[-10:])))\n",
        "        plt.figure(figsize=(12, 4))\n",
        "        plt.subplot(131)\n",
        "        plt.title('train loss / traning time')\n",
        "        plt.plot(loss_history)\n",
        "        plt.grid()\n",
        "        plt.subplot(132)\n",
        "        plt.title('val score distribution')\n",
        "        plt.hist(current_scores, bins=20)\n",
        "        plt.subplot(133)\n",
        "        plt.title('val score / traning time (lower is better)')\n",
        "        plt.plot(editdist_history)\n",
        "        plt.grid()\n",
        "        plt.show()"
      ]
    },
    {
      "cell_type": "markdown",
      "metadata": {
        "id": "KJpo8HqNogzD"
      },
      "source": [
        "__How to interpret the plots:__\n",
        "\n",
        "* __Train loss__ - that's your model's crossentropy over minibatches. It should go down steadily. Most importantly, it shouldn't be NaN :)\n",
        "* __Val score distribution__ - distribution of translation edit distance (score) within batch. It should move to the left over time.\n",
        "* __Val score / training time__ - it's your current mean edit distance. This plot is much whimsier than loss, but make sure it goes below 8 by 2500 steps.\n",
        "\n",
        "If it doesn't, first try to re-create both model and opt. You may have changed its weight too much while debugging. If that doesn't help, it's debugging time."
      ]
    },
    {
      "cell_type": "code",
      "execution_count": 27,
      "metadata": {
        "id": "mtCM83GKogzD",
        "outputId": "4b26e605-055c-4ea0-b634-c01a4eae7557",
        "colab": {
          "base_uri": "https://localhost:8080/"
        }
      },
      "outputs": [
        {
          "output_type": "stream",
          "name": "stdout",
          "text": [
            "מפרש קדמה -> deme marka\n",
            "the information -> the mantinorophi\n",
            "ביאליניצ'י -> bilinić\n",
            "סונו ג'וי -> sano goo\n",
            "ויוויאן פוקס -> vivan pocoss\n",
            "מנורת שמן -> shamman shame\n",
            "רובין אליס -> robin sall\n",
            "פרנצ'סקו גוארדי -> franksa gordi\n",
            "צ'איאונו -> chaiono\n",
            "תאופיק אל-חכים -> the paller comp\n"
          ]
        }
      ],
      "source": [
        "for word in train_words[:10]:\n",
        "    print(\"%s -> %s\" % (word, translate([word])[0]))"
      ]
    },
    {
      "cell_type": "code",
      "execution_count": 28,
      "metadata": {
        "id": "ACT7D7fMogzD",
        "outputId": "50509d85-845b-43f2-9aa6-2b347ac6d6d1",
        "colab": {
          "base_uri": "https://localhost:8080/"
        }
      },
      "outputs": [
        {
          "output_type": "stream",
          "name": "stderr",
          "text": [
            "100%|██████████| 407/407 [00:13<00:00, 30.80it/s]"
          ]
        },
        {
          "output_type": "stream",
          "name": "stdout",
          "text": [
            "Supervised test score: 7.268751921303412\n"
          ]
        },
        {
          "output_type": "stream",
          "name": "stderr",
          "text": [
            "\n"
          ]
        }
      ],
      "source": [
        "test_scores = []\n",
        "for start_i in trange(0, len(test_words), 32):\n",
        "    batch_words = test_words[start_i:start_i+32]\n",
        "    batch_trans = translate(batch_words)\n",
        "    distances = list(map(get_distance, batch_words, batch_trans))\n",
        "    test_scores.extend(distances)\n",
        "\n",
        "print(\"Supervised test score:\", np.mean(test_scores))"
      ]
    },
    {
      "cell_type": "markdown",
      "metadata": {
        "id": "q4NCnjPUogzE"
      },
      "source": [
        "## Self-critical policy gradient (2 points)\n",
        "\n",
        "In this section you'll implement algorithm called self-critical sequence training (here's an [article](https://arxiv.org/abs/1612.00563)).\n",
        "\n",
        "The algorithm is a vanilla policy gradient with a special baseline.\n",
        "\n",
        "$$ \\nabla J = E_{x \\sim p(s)} E_{y \\sim \\pi(y|x)} \\nabla log \\pi(y|x) \\cdot (R(x,y) - b(x)) $$\n",
        "\n",
        "Here reward R(x,y) is a __negative levenshtein distance__ (since we minimize it). The baseline __b(x)__ represents how well model fares on word __x__.\n",
        "\n",
        "In practice, this means that we compute baseline as a score of greedy translation, $b(x) = R(x,y_{greedy}(x)) $.\n",
        "\n",
        "![img](https://github.com/yandexdataschool/Practical_RL/raw/master/yet_another_week/_resource/scheme.png)\n",
        "\n",
        "\n",
        "Luckily, we already obtained the required outputs: `model.greedy_translations, model.greedy_mask` and we only need to compute levenshtein using `compute_levenshtein` function.\n"
      ]
    },
    {
      "cell_type": "code",
      "execution_count": 29,
      "metadata": {
        "id": "qluT8GwrogzE"
      },
      "outputs": [],
      "source": [
        "def compute_reward(input_sequence, translations):\n",
        "    \"\"\" computes sample-wise reward given token ids for inputs and translations \"\"\"\n",
        "    distances = list(map(get_distance,\n",
        "                         inp_voc.to_lines(input_sequence.data.numpy()),\n",
        "                         out_voc.to_lines(translations.data.numpy())))\n",
        "    # use negative levenshtein distance so that larger reward means better policy\n",
        "    return - torch.tensor(distances, dtype=torch.int64)"
      ]
    },
    {
      "cell_type": "code",
      "execution_count": 30,
      "metadata": {
        "id": "4m2WkELuogzE"
      },
      "outputs": [],
      "source": [
        "def scst_objective_on_batch(input_sequence, max_len=MAX_OUTPUT_LENGTH):\n",
        "    \"\"\" Compute pseudo-loss for policy gradient given a batch of sources \"\"\"\n",
        "    # Преобразуем входные строки в индексы\n",
        "    input_sequence = torch.tensor(inp_voc.to_matrix(input_sequence), dtype=torch.int64)\n",
        "\n",
        "    # 1) Сэмплируем перевод из модели (стохастически)\n",
        "    sample_translations, sample_logp = model.translate(input_sequence, greedy=False, max_len=max_len)\n",
        "\n",
        "    # 2) Получаем baseline перевод (жадный: argmax)\n",
        "    greedy_translations, greedy_logp = model.translate(input_sequence, greedy=True, max_len=max_len)\n",
        "\n",
        "    # ===============================\n",
        "    # 3) Rewards\n",
        "    # вычисляем отрицательное расстояние Левенштейна\n",
        "    rewards = compute_reward(input_sequence, sample_translations)          # [batch]\n",
        "    baseline = compute_reward(input_sequence, greedy_translations)         # [batch]\n",
        "\n",
        "    # 4) Advantage: насколько сэмпл лучше/хуже baseline\n",
        "    advantage = (rewards - baseline).float()   # [batch]\n",
        "    # ===============================\n",
        "\n",
        "    # 5) log_pi(a_t|s_t) — лог-вероятность выбранной последовательности\n",
        "    # sample_logp : [batch, time, vocab]\n",
        "    # sample_translations : [batch, time]\n",
        "    logp_sample = torch.gather(sample_logp, 2, sample_translations[:, :, None]).squeeze(-1)\n",
        "    # shape = [batch, time]\n",
        "    # ===============================\n",
        "\n",
        "    # 6) Policy Gradient objective (считываем без минуса!)\n",
        "    J = logp_sample * advantage[:, None]   # [batch, time]\n",
        "\n",
        "    assert J.dim() == 2, \"please return elementwise objective, don't compute mean just yet\"\n",
        "\n",
        "    # Маска, чтобы EOS и паддинги не учитывались\n",
        "    mask = infer_mask(sample_translations, out_voc.eos_ix)\n",
        "\n",
        "    # Итоговый policy gradient loss\n",
        "    loss = - torch.sum(J * mask) / torch.sum(mask)\n",
        "    # ===============================\n",
        "\n",
        "    # 7) Регуляризация энтропией (поощряем exploration)\n",
        "    sample_probs = torch.exp(sample_logp)   # p = softmax(logits)\n",
        "    entropy = - torch.sum(sample_probs * sample_logp, dim=-1)  # [batch, time]\n",
        "\n",
        "    assert entropy.dim() == 2, \"please make sure entropy is [batch, time]\"\n",
        "\n",
        "    reg = - 0.01 * torch.sum(entropy * mask) / torch.sum(mask)\n",
        "\n",
        "    return loss + reg, torch.sum(entropy * mask) / torch.sum(mask)\n"
      ]
    },
    {
      "cell_type": "markdown",
      "metadata": {
        "id": "tMfIHBpGogzE"
      },
      "source": [
        "# Policy gradient training\n"
      ]
    },
    {
      "cell_type": "code",
      "execution_count": null,
      "metadata": {
        "id": "EFQXsrCTogzE"
      },
      "outputs": [],
      "source": [
        "entropy_history = [np.nan] * len(loss_history)\n",
        "opt = torch.optim.Adam(model.parameters(), lr=1e-5)"
      ]
    },
    {
      "cell_type": "code",
      "execution_count": 31,
      "metadata": {
        "id": "mo6zF73iogzF",
        "outputId": "6b765761-a63d-48f9-e133-975de77e0238",
        "colab": {
          "base_uri": "https://localhost:8080/",
          "height": 425
        }
      },
      "outputs": [
        {
          "output_type": "display_data",
          "data": {
            "text/plain": [
              "<Figure size 1200x400 with 3 Axes>"
            ],
            "image/png": "[encoded data removed]"
          },
          "metadata": {}
        },
        {
          "output_type": "stream",
          "name": "stderr",
          "text": [
            "100%|██████████| 1000/1000 [01:56<00:00,  8.56it/s]"
          ]
        },
        {
          "output_type": "stream",
          "name": "stdout",
          "text": [
            "J=-0.063, mean score=8.062\n"
          ]
        },
        {
          "output_type": "stream",
          "name": "stderr",
          "text": [
            "\n"
          ]
        }
      ],
      "source": [
        "for i in trange(1000):\n",
        "    loss, ent = scst_objective_on_batch(\n",
        "        sample_batch(train_words, word_to_translation, 32)[0])  # [0] = only source sentence\n",
        "\n",
        "    # train with backprop\n",
        "    loss.backward()\n",
        "    opt.step()\n",
        "    opt.zero_grad()\n",
        "\n",
        "    loss_history.append(loss.item())\n",
        "    entropy_history.append(ent.item())\n",
        "\n",
        "    if (i+1) % REPORT_FREQ == 0:\n",
        "        clear_output(True)\n",
        "        current_scores = score(test_words)\n",
        "        editdist_history.append(current_scores.mean())\n",
        "        plt.figure(figsize=(12, 4))\n",
        "        plt.subplot(131)\n",
        "        plt.title('val score distribution')\n",
        "        plt.hist(current_scores, bins=20)\n",
        "        plt.subplot(132)\n",
        "        plt.title('val score / traning time')\n",
        "        plt.plot(editdist_history)\n",
        "        plt.grid()\n",
        "        plt.subplot(133)\n",
        "        plt.title('policy entropy / traning time')\n",
        "        plt.plot(entropy_history)\n",
        "        plt.grid()\n",
        "        plt.show()\n",
        "        print(\"J=%.3f, mean score=%.3f\" %\n",
        "              (np.mean(loss_history[-10:]), np.mean(editdist_history[-10:])))"
      ]
    },
    {
      "cell_type": "markdown",
      "metadata": {
        "id": "y6SMnz_6ogzF"
      },
      "source": [
        "__Debugging tips:__\n",
        "<img src=https://github.com/yandexdataschool/Practical_RL/raw/master/yet_another_week/_resource/do_something_scst.png width=400>\n",
        "\n",
        " * As usual, don't expect improvements right away, but in general the model should be able to show some positive changes by 5k steps.\n",
        " * Entropy is a good indicator of many problems.\n",
        "   * If it reaches zero, you may need greater entropy regularizer.\n",
        "   * If it has rapid changes time to time, you may need gradient clipping.\n",
        "   * If it oscillates up and down in an erratic manner... it's perfectly okay for entropy to do so. But it should decrease at the end.\n",
        "\n",
        " * We don't show loss_history cuz it's uninformative for pseudo-losses in policy gradient. However, if something goes wrong you can check it to see if everything isn't a constant zero."
      ]
    },
    {
      "cell_type": "markdown",
      "metadata": {
        "id": "G56ANYE2ogzF"
      },
      "source": [
        "### Results"
      ]
    },
    {
      "cell_type": "code",
      "execution_count": 32,
      "metadata": {
        "id": "b14_xRSjogzF",
        "outputId": "b0943ba0-42f2-4c6c-d3d9-28537487810c",
        "colab": {
          "base_uri": "https://localhost:8080/"
        }
      },
      "outputs": [
        {
          "output_type": "stream",
          "name": "stdout",
          "text": [
            "מפרש קדמה -> can ma\n",
            "the information -> hat ron\n",
            "ביאליניצ'י -> biliili\n",
            "סונו ג'וי -> son son\n",
            "ויוויאן פוקס -> jon sons\n",
            "מנורת שמן -> san man\n",
            "רובין אליס -> rori serin\n",
            "פרנצ'סקו גוארדי -> pari sera\n",
            "צ'איאונו -> canono\n",
            "תאופיק אל-חכים -> pae lin\n"
          ]
        }
      ],
      "source": [
        "for word in train_words[:10]:\n",
        "    print(\"%s -> %s\" % (word, translate([word])[0]))"
      ]
    },
    {
      "cell_type": "code",
      "execution_count": 33,
      "metadata": {
        "id": "-1GEX4F2ogzF",
        "outputId": "0aa7cac7-6701-4c36-ea02-48e52d9bc109",
        "colab": {
          "base_uri": "https://localhost:8080/"
        }
      },
      "outputs": [
        {
          "output_type": "stream",
          "name": "stderr",
          "text": [
            "100%|██████████| 407/407 [00:10<00:00, 39.72it/s]"
          ]
        },
        {
          "output_type": "stream",
          "name": "stdout",
          "text": [
            "Supervised test score: 8.057331693821089\n"
          ]
        },
        {
          "output_type": "stream",
          "name": "stderr",
          "text": [
            "\n"
          ]
        }
      ],
      "source": [
        "test_scores = []\n",
        "for start_i in trange(0, len(test_words), 32):\n",
        "    batch_words = test_words[start_i:start_i+32]\n",
        "    batch_trans = translate(batch_words)\n",
        "    distances = list(map(get_distance, batch_words, batch_trans))\n",
        "    test_scores.extend(distances)\n",
        "print(\"Supervised test score:\", np.mean(test_scores))\n",
        "\n",
        "# ^^ If you get Out Of MemoryError, please replace this with batched computation"
      ]
    },
    {
      "cell_type": "markdown",
      "metadata": {
        "id": "4N2Y5AwyogzF"
      },
      "source": [
        "## Step 6: Make it actually work (5++ pts)\n",
        "\n",
        "In this section, we want you to finally __restart with EASY_MODE=False__ and experiment to find a good model/curriculum for that task.\n",
        "\n",
        "We recommend you to start with the following architecture\n",
        "\n",
        "```\n",
        "encoder---decoder\n",
        "\n",
        "           P(y|h)\n",
        "             ^\n",
        " LSTM  ->   LSTM\n",
        "  ^          ^\n",
        " biLSTM  ->   LSTM\n",
        "  ^          ^\n",
        "input       y_prev\n",
        "```\n",
        "\n",
        "__Note:__ you can fit all 4 state tensors of both LSTMs into in a single state - just assume that it contains, for example, [h0, c0, h1, c1] - pack it in encode and update in decode.\n",
        "\n",
        "\n",
        "Here are some cool ideas on what you can do then.\n",
        "\n",
        "__General tips & tricks:__\n",
        "* You will likely need to adjust pre-training time for such a network.\n",
        "* Supervised pre-training may benefit from clipping gradients somehow.\n",
        "* SCST may indulge a higher learning rate in some cases and changing entropy regularizer over time.\n",
        "* It's often useful to save pre-trained model parameters to not re-train it every time you want new policy gradient parameters.\n",
        "* When leaving training for nighttime, try setting REPORT_FREQ to a larger value (e.g. 500) not to waste time on it.\n",
        "\n",
        "__Formal criteria:__\n",
        "To get 5 points, we want you to build an architecture that:\n",
        "* _doesn't consist of single GRU_\n",
        "* _works better_ than single GRU baseline.\n",
        "* We also want you to provide either learning curve or trained model, preferably both\n",
        "* ... and write a brief report or experiment log describing what you did and how it fared.\n",
        "\n",
        "### Attention\n",
        "There's more than one way to connect decoder to encoder\n",
        "  * __Vanilla:__ layer_i of encoder last state goes to layer_i of decoder initial state\n",
        "  * __Every tick:__ feed encoder last state _on every iteration_ of decoder.\n",
        "  * __Attention:__ allow decoder to \"peek\" at one (or several) positions of encoded sequence on every tick.\n",
        "\n",
        "The most effective (and cool) of those is, of course, attention.\n",
        "You can read more about attention [in this nice blog post](https://distill.pub/2016/augmented-rnns/). The easiest way to begin is to use \"soft\" attention with \"additive\" or \"dot-product\" intermediate layers.\n",
        "\n",
        "__Tips__\n",
        "* Model usually generalizes better if you no longer allow decoder to see final encoder state\n",
        "* Once your model made it through several epochs, it is a good idea to visualize attention maps to understand what your model has actually learned\n",
        "\n",
        "* There's more stuff [here](bonus_pytorch.ipynb)\n",
        "* If you opted for hard attention, we recommend [gumbel-softmax](https://blog.evjang.com/2016/11/tutorial-categorical-variational.html) instead of sampling. Also, please make sure soft attention works fine before you switch to hard.\n",
        "\n",
        "### UREX\n",
        "* This is a way to improve exploration in policy-based settings. The main idea is that you find and upweight under-appreciated actions.\n",
        "* Here's [video](https://www.youtube.com/watch?v=fZNyHoXgV7M&feature=youtu.be&t=3444)\n",
        " and an [article](https://arxiv.org/abs/1611.09321).\n",
        "* You may want to reduce batch size 'cuz UREX requires you to sample multiple times per source sentence.\n",
        "* Once you got it working, try using experience replay with importance sampling instead of (in addition to) basic UREX.\n",
        "\n",
        "### Some additional ideas:\n",
        "* (advanced deep learning) It may be a good idea to first train on small phrases and then adapt to larger ones (a.k.a. training curriculum).\n",
        "* (advanced nlp) You may want to switch from raw utf8 to something like unicode or even syllables to make the task easier.\n",
        "* (advanced nlp) Since Hebrew words are written __with vowels omitted__, you may want to use a small Hebrew vowel markup dataset at `he-pron-wiktionary.txt`.\n",
        "\n"
      ]
    },
    {
      "cell_type": "code",
      "execution_count": null,
      "metadata": {
        "id": "dQanTtQbogzG"
      },
      "outputs": [],
      "source": [
        "assert not EASY_MODE, \"make sure you set EASY_MODE = False at the top of the notebook.\""
      ]
    },
    {
      "cell_type": "markdown",
      "metadata": {
        "id": "qjsO0ranogzG"
      },
      "source": [
        "`[your report/log here or anywhere you please]`"
      ]
    },
    {
      "cell_type": "markdown",
      "metadata": {
        "id": "_YqDnXLrogzG"
      },
      "source": [
        "__Contributions:__ This notebook is brought to you by\n",
        "* Yandex [MT team](https://tech.yandex.com/translate/)\n",
        "* Denis Mazur ([DeniskaMazur](https://github.com/DeniskaMazur)), Oleg Vasilev ([Omrigan](https://github.com/Omrigan/)), Dmitry Emelyanenko ([TixFeniks](https://github.com/tixfeniks)) and Fedor Ratnikov ([justheuristic](https://github.com/justheuristic/))\n",
        "* Dataset is parsed from [Wiktionary](https://en.wiktionary.org), which is under CC-BY-SA and GFDL licenses.\n"
      ]
    }
  ],
  "metadata": {
    "language_info": {
      "name": "python"
    },
    "colab": {
      "provenance": []
    },
    "kernelspec": {
      "name": "python3",
      "display_name": "Python 3"
    }
  },
  "nbformat": 4,
  "nbformat_minor": 0
}