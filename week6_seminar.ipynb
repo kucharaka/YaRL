{
  "cells": [
    {
      "cell_type": "markdown",
      "metadata": {
        "id": "5jMvoDQzg0pn"
      },
      "source": [
        "# REINFORCE in PyTorch\n",
        "\n",
        "Just like we did before for Q-learning, this time we'll design a PyTorch network to learn `CartPole-v0` via policy gradient (REINFORCE).\n",
        "\n",
        "Most of the code in this notebook is taken from approximate Q-learning, so you'll find it more or less familiar and even simpler."
      ]
    },
    {
      "cell_type": "code",
      "execution_count": 1,
      "metadata": {
        "id": "X_d0RjnXg0pp",
        "outputId": "73587a62-60ab-43cd-cf7a-648cc084e8a1",
        "colab": {
          "base_uri": "https://localhost:8080/"
        }
      },
      "outputs": [
        {
          "output_type": "stream",
          "name": "stdout",
          "text": [
            "W: Skipping acquire of configured file 'main/source/Sources' as repository 'https://r2u.stat.illinois.edu/ubuntu jammy InRelease' does not seem to provide it (sources.list entry misspelt?)\n",
            "Requirement already satisfied: moviepy in /usr/local/lib/python3.12/dist-packages (1.0.3)\n",
            "Requirement already satisfied: decorator<5.0,>=4.0.2 in /usr/local/lib/python3.12/dist-packages (from moviepy) (4.4.2)\n",
            "Requirement already satisfied: tqdm<5.0,>=4.11.2 in /usr/local/lib/python3.12/dist-packages (from moviepy) (4.67.1)\n",
            "Requirement already satisfied: requests<3.0,>=2.8.1 in /usr/local/lib/python3.12/dist-packages (from moviepy) (2.32.4)\n",
            "Requirement already satisfied: proglog<=1.0.0 in /usr/local/lib/python3.12/dist-packages (from moviepy) (0.1.12)\n",
            "Requirement already satisfied: numpy>=1.17.3 in /usr/local/lib/python3.12/dist-packages (from moviepy) (2.0.2)\n",
            "Requirement already satisfied: imageio<3.0,>=2.5 in /usr/local/lib/python3.12/dist-packages (from moviepy) (2.37.0)\n",
            "Requirement already satisfied: imageio-ffmpeg>=0.2.0 in /usr/local/lib/python3.12/dist-packages (from moviepy) (0.6.0)\n",
            "Requirement already satisfied: pillow>=8.3.2 in /usr/local/lib/python3.12/dist-packages (from imageio<3.0,>=2.5->moviepy) (11.3.0)\n",
            "Requirement already satisfied: charset_normalizer<4,>=2 in /usr/local/lib/python3.12/dist-packages (from requests<3.0,>=2.8.1->moviepy) (3.4.3)\n",
            "Requirement already satisfied: idna<4,>=2.5 in /usr/local/lib/python3.12/dist-packages (from requests<3.0,>=2.8.1->moviepy) (3.10)\n",
            "Requirement already satisfied: urllib3<3,>=1.21.1 in /usr/local/lib/python3.12/dist-packages (from requests<3.0,>=2.8.1->moviepy) (2.5.0)\n",
            "Requirement already satisfied: certifi>=2017.4.17 in /usr/local/lib/python3.12/dist-packages (from requests<3.0,>=2.8.1->moviepy) (2025.8.3)\n",
            "Reading package lists... Done\n",
            "Building dependency tree... Done\n",
            "Reading state information... Done\n",
            "ffmpeg is already the newest version (7:4.4.2-0ubuntu0.22.04.1).\n",
            "0 upgraded, 0 newly installed, 0 to remove and 44 not upgraded.\n",
            "Requirement already satisfied: imageio-ffmpeg in /usr/local/lib/python3.12/dist-packages (0.6.0)\n",
            "Starting virtual X frame buffer: Xvfb.\n"
          ]
        }
      ],
      "source": [
        "import sys, os\n",
        "if 'google.colab' in sys.modules and not os.path.exists('.setup_complete'):\n",
        "    !wget -q https://raw.githubusercontent.com/yandexdataschool/Practical_RL/master/setup_colab.sh -O- | bash\n",
        "    !pip install -q gymnasium\n",
        "    !pip install moviepy\n",
        "    !apt install ffmpeg\n",
        "    !pip install imageio-ffmpeg\n",
        "    !touch .setup_complete\n",
        "\n",
        "# This code creates a virtual display to draw game images on.\n",
        "# It will have no effect if your machine has a monitor.\n",
        "if type(os.environ.get(\"DISPLAY\")) is not str or len(os.environ.get(\"DISPLAY\")) == 0:\n",
        "    !bash ../xvfb start\n",
        "    os.environ['DISPLAY'] = ':1'"
      ]
    },
    {
      "cell_type": "code",
      "execution_count": 2,
      "metadata": {
        "id": "gi1SDbd0g0pp"
      },
      "outputs": [],
      "source": [
        "import gymnasium as gym\n",
        "import numpy as np\n",
        "import matplotlib.pyplot as plt\n",
        "%matplotlib inline"
      ]
    },
    {
      "cell_type": "code",
      "execution_count": null,
      "metadata": {
        "id": "qHoC5axZg0pp"
      },
      "outputs": [],
      "source": [
        "# also you need to install ffmpeg if not installed\n",
        "# for MacOS: ! brew install ffmpeg"
      ]
    },
    {
      "cell_type": "markdown",
      "metadata": {
        "id": "pvzESSB6g0pp"
      },
      "source": [
        "A caveat: with some versions of `pyglet`, the following cell may crash with `NameError: name 'base' is not defined`. The corresponding bug report is [here](https://github.com/pyglet/pyglet/issues/134). If you see this error, try restarting the kernel."
      ]
    },
    {
      "cell_type": "code",
      "execution_count": 3,
      "metadata": {
        "id": "0wBa2eO8g0pp",
        "outputId": "f5c3ac83-3a0e-4c16-d7aa-5e425c7d96b1",
        "colab": {
          "base_uri": "https://localhost:8080/",
          "height": 413
        }
      },
      "outputs": [
        {
          "output_type": "execute_result",
          "data": {
            "text/plain": [
              "<matplotlib.image.AxesImage at 0x7dde1dd23e60>"
            ]
          },
          "metadata": {},
          "execution_count": 3
        },
        {
          "output_type": "display_data",
          "data": {
            "text/plain": [
              "<Figure size 640x480 with 1 Axes>"
            ],
            "image/png": "[encoded data removed]"
          },
          "metadata": {}
        }
      ],
      "source": [
        "env = gym.make(\"CartPole-v1\", render_mode=\"rgb_array\")\n",
        "\n",
        "# gym compatibility: unwrap TimeLimit\n",
        "if hasattr(env, '_max_episode_steps'):\n",
        "    env = env.env\n",
        "\n",
        "env.reset()\n",
        "n_actions = env.action_space.n\n",
        "state_dim = env.observation_space.shape\n",
        "\n",
        "plt.imshow(env.render())"
      ]
    },
    {
      "cell_type": "markdown",
      "metadata": {
        "id": "DtsGW_ASg0pp"
      },
      "source": [
        "# Building the network for REINFORCE"
      ]
    },
    {
      "cell_type": "markdown",
      "metadata": {
        "id": "c2gCjwsbg0pq"
      },
      "source": [
        "For REINFORCE algorithm, we'll need a model that predicts action probabilities given states.\n",
        "\n",
        "For numerical stability, please __do not include the softmax layer into your network architecture__.\n",
        "We'll use softmax or log-softmax where appropriate."
      ]
    },
    {
      "cell_type": "code",
      "execution_count": 4,
      "metadata": {
        "id": "BYrTPNGNg0pq"
      },
      "outputs": [],
      "source": [
        "import torch\n",
        "import torch.nn as nn\n",
        "import torch.nn.functional as F"
      ]
    },
    {
      "cell_type": "code",
      "execution_count": 5,
      "metadata": {
        "id": "ZTlsHXPWg0pq",
        "outputId": "952e065e-b481-4a5d-b04f-cbf150ee79a7",
        "colab": {
          "base_uri": "https://localhost:8080/"
        }
      },
      "outputs": [
        {
          "output_type": "stream",
          "name": "stdout",
          "text": [
            "Sequential(\n",
            "  (0): Linear(in_features=4, out_features=128, bias=True)\n",
            "  (1): ReLU()\n",
            "  (2): Linear(in_features=128, out_features=2, bias=True)\n",
            ")\n"
          ]
        }
      ],
      "source": [
        "state_dim = env.observation_space.shape[0]  # будет 4\n",
        "n_actions = env.action_space.n              # будет 2\n",
        "\n",
        "# Простая MLP: вход (4) -> скрытый слой -> выход (2)\n",
        "model = nn.Sequential(\n",
        "    nn.Linear(state_dim, 128),   # первый полносвязный слой\n",
        "    nn.ReLU(),                   # активация\n",
        "    nn.Linear(128, n_actions)    # второй слой: выход логитов политики\n",
        ")\n",
        "\n",
        "print(model)\n"
      ]
    },
    {
      "cell_type": "markdown",
      "metadata": {
        "id": "rl6ziseqg0pq"
      },
      "source": [
        "#### Predict function"
      ]
    },
    {
      "cell_type": "markdown",
      "metadata": {
        "id": "RUCZ4TyQg0pq"
      },
      "source": [
        "Note: output value of this function is not a torch tensor, it's a numpy array.\n",
        "So, here gradient calculation is not needed.\n",
        "<br>\n",
        "Use [no_grad](https://pytorch.org/docs/stable/autograd.html#torch.autograd.no_grad)\n",
        "to suppress gradient calculation.\n",
        "<br>\n",
        "Also, `.detach()` (or legacy `.data` property) can be used instead, but there is a difference:\n",
        "<br>\n",
        "With `.detach()` computational graph is built but then disconnected from a particular tensor,\n",
        "so `.detach()` should be used if that graph is needed for backprop via some other (not detached) tensor;\n",
        "<br>\n",
        "In contrast, no graph is built by any operation in `no_grad()` context, thus it's preferable here."
      ]
    },
    {
      "cell_type": "code",
      "execution_count": 6,
      "metadata": {
        "id": "eSZ2-yWpg0pq"
      },
      "outputs": [],
      "source": [
        "def predict_probs(states):\n",
        "    \"\"\"\n",
        "    Predict action probabilities given states.\n",
        "    :param states: numpy array of shape [batch, state_shape]\n",
        "    :returns: numpy array of shape [batch, n_actions]\n",
        "    \"\"\"\n",
        "    # numpy -> torch.tensor\n",
        "    states_t = torch.tensor(states, dtype=torch.float32)\n",
        "\n",
        "    # получаем логиты из модели\n",
        "    logits = model(states_t)\n",
        "\n",
        "    # переводим логиты в вероятности\n",
        "    probs = F.softmax(logits, dim=-1)\n",
        "\n",
        "    # возвращаем в numpy\n",
        "    return probs.detach().numpy()\n"
      ]
    },
    {
      "cell_type": "code",
      "execution_count": 7,
      "metadata": {
        "id": "lyC4uDqEg0pq"
      },
      "outputs": [],
      "source": [
        "test_states = np.array([env.reset()[0] for _ in range(5)])\n",
        "test_probas = predict_probs(test_states)\n",
        "assert isinstance(test_probas, np.ndarray), \\\n",
        "    \"you must return np array and not %s\" % type(test_probas)\n",
        "assert tuple(test_probas.shape) == (test_states.shape[0], env.action_space.n), \\\n",
        "    \"wrong output shape: %s\" % np.shape(test_probas)\n",
        "assert np.allclose(np.sum(test_probas, axis=1), 1), \"probabilities do not sum to 1\""
      ]
    },
    {
      "cell_type": "markdown",
      "metadata": {
        "id": "k2mPCQKyg0pq"
      },
      "source": [
        "### Play the game\n",
        "\n",
        "We can now use our newly built agent to play the game."
      ]
    },
    {
      "cell_type": "code",
      "execution_count": 8,
      "metadata": {
        "id": "Yyr-1NpRg0pq"
      },
      "outputs": [],
      "source": [
        "def generate_session(env, t_max=1000):\n",
        "    \"\"\"\n",
        "    Play a full session with REINFORCE agent.\n",
        "    Returns sequences of states, actions, and rewards.\n",
        "    \"\"\"\n",
        "    # arrays to record session\n",
        "    states, actions, rewards = [], [], []\n",
        "\n",
        "    s = env.reset()[0]\n",
        "\n",
        "    for t in range(t_max):\n",
        "        # action probabilities array aka pi(a|s)\n",
        "        action_probs = predict_probs(np.array([s]))[0]\n",
        "\n",
        "        # Sample action with given probabilities.\n",
        "        a = np.random.choice(len(action_probs), p=action_probs)\n",
        "\n",
        "        new_s, r, terminated, truncated, info = env.step(a)\n",
        "\n",
        "        # record session history to train later\n",
        "        states.append(s)\n",
        "        actions.append(a)\n",
        "        rewards.append(r)\n",
        "\n",
        "        s = new_s\n",
        "        if terminated or truncated:\n",
        "            break\n",
        "\n",
        "    return states, actions, rewards\n"
      ]
    },
    {
      "cell_type": "code",
      "execution_count": 9,
      "metadata": {
        "id": "EVMmv0PPg0pq"
      },
      "outputs": [],
      "source": [
        "# test it\n",
        "states, actions, rewards = generate_session(env)"
      ]
    },
    {
      "cell_type": "markdown",
      "metadata": {
        "id": "53sNdQ8Vg0pq"
      },
      "source": [
        "### Computing cumulative rewards\n",
        "\n",
        "$$\n",
        "\\begin{align*}\n",
        "G_t &= r_t + \\gamma r_{t + 1} + \\gamma^2 r_{t + 2} + \\ldots \\\\\n",
        "&= \\sum_{i = t}^T \\gamma^{i - t} r_i \\\\\n",
        "&= r_t + \\gamma * G_{t + 1}\n",
        "\\end{align*}\n",
        "$$"
      ]
    },
    {
      "cell_type": "code",
      "execution_count": 10,
      "metadata": {
        "id": "GdZvmkSng0pr"
      },
      "outputs": [],
      "source": [
        "def get_cumulative_rewards(rewards, gamma=0.99):\n",
        "    \"\"\"\n",
        "    Compute cumulative discounted rewards (returns) for REINFORCE.\n",
        "    \"\"\"\n",
        "    G = 0\n",
        "    returns = []\n",
        "\n",
        "    # идём с конца в начало\n",
        "    for r in reversed(rewards):\n",
        "        G = r + gamma * G\n",
        "        returns.insert(0, G)  # вставляем в начало\n",
        "\n",
        "    return np.array(returns, dtype=np.float32)\n"
      ]
    },
    {
      "cell_type": "code",
      "execution_count": 11,
      "metadata": {
        "id": "pkb_ngUxg0pr",
        "outputId": "aa39f755-cbf4-4e91-ea6b-a185c8febe61",
        "colab": {
          "base_uri": "https://localhost:8080/"
        }
      },
      "outputs": [
        {
          "output_type": "stream",
          "name": "stdout",
          "text": [
            "looks good!\n"
          ]
        }
      ],
      "source": [
        "get_cumulative_rewards(rewards)\n",
        "assert len(get_cumulative_rewards(list(range(100)))) == 100\n",
        "assert np.allclose(\n",
        "    get_cumulative_rewards([0, 0, 1, 0, 0, 1, 0], gamma=0.9),\n",
        "    [1.40049, 1.5561, 1.729, 0.81, 0.9, 1.0, 0.0])\n",
        "assert np.allclose(\n",
        "    get_cumulative_rewards([0, 0, 1, -2, 3, -4, 0], gamma=0.5),\n",
        "    [0.0625, 0.125, 0.25, -1.5, 1.0, -4.0, 0.0])\n",
        "assert np.allclose(\n",
        "    get_cumulative_rewards([0, 0, 1, 2, 3, 4, 0], gamma=0),\n",
        "    [0, 0, 1, 2, 3, 4, 0])\n",
        "print(\"looks good!\")"
      ]
    },
    {
      "cell_type": "markdown",
      "metadata": {
        "id": "320REGgDg0pr"
      },
      "source": [
        "#### Loss function and updates\n",
        "\n",
        "We now need to define objective and update over policy gradient.\n",
        "\n",
        "Our objective function is\n",
        "\n",
        "$$ J \\approx  { 1 \\over N } \\sum_{s_i,a_i} G(s_i,a_i) $$\n",
        "\n",
        "REINFORCE defines a way to compute the gradient of the expected reward with respect to policy parameters. The formula is as follows:\n",
        "\n",
        "$$ \\nabla_\\theta \\hat J(\\theta) \\approx { 1 \\over N } \\sum_{s_i, a_i} \\nabla_\\theta \\log \\pi_\\theta (a_i \\mid s_i) \\cdot G_t(s_i, a_i) $$\n",
        "\n",
        "We can abuse PyTorch's capabilities for automatic differentiation by defining our objective function as follows:\n",
        "\n",
        "$$ \\hat J(\\theta) \\approx { 1 \\over N } \\sum_{s_i, a_i} \\log \\pi_\\theta (a_i \\mid s_i) \\cdot G_t(s_i, a_i) $$\n",
        "\n",
        "When you compute the gradient of that function with respect to network weights $\\theta$, it will become exactly the policy gradient."
      ]
    },
    {
      "cell_type": "code",
      "execution_count": 14,
      "metadata": {
        "id": "NHKB4nu_g0pr"
      },
      "outputs": [],
      "source": [
        "optimizer = torch.optim.Adam(model.parameters(), 1e-3)\n",
        "\n",
        "def train_on_session(states, actions, rewards, gamma=0.99, entropy_coef=1e-2):\n",
        "    \"\"\"\n",
        "    Takes a sequence of states, actions and rewards produced by generate_session.\n",
        "    Updates agent's weights by following the policy gradient above.\n",
        "    Please use Adam optimizer with default parameters.\n",
        "    \"\"\"\n",
        "\n",
        "    # cast everything into torch tensors\n",
        "    states = torch.tensor(states, dtype=torch.float32)\n",
        "    actions = torch.tensor(actions, dtype=torch.int64)\n",
        "    cumulative_returns = np.array(get_cumulative_rewards(rewards, gamma))\n",
        "    cumulative_returns = torch.tensor(cumulative_returns, dtype=torch.float32)\n",
        "\n",
        "    # predict logits, probas and log-probas using the agent\n",
        "    logits = model(states)                       # [batch, n_actions]\n",
        "    probs = nn.functional.softmax(logits, -1)    # [batch, n_actions]\n",
        "    log_probs = nn.functional.log_softmax(logits, -1)\n",
        "\n",
        "    # select log-probabilities for chosen actions\n",
        "    log_probs_for_actions = torch.sum(\n",
        "        log_probs * F.one_hot(actions, env.action_space.n), dim=1\n",
        "    )  # -> shape [batch]\n",
        "\n",
        "    # === entropy regularization ===\n",
        "    entropy = -torch.sum(probs * log_probs, dim=1).mean()\n",
        "\n",
        "    # === policy gradient loss ===\n",
        "    policy_loss = -(log_probs_for_actions * cumulative_returns).mean()\n",
        "    loss = policy_loss - entropy_coef * entropy\n",
        "\n",
        "    # === Gradient descent step ===\n",
        "    optimizer.zero_grad()\n",
        "    loss.backward()\n",
        "    optimizer.step()\n",
        "\n",
        "    return np.sum(rewards)\n"
      ]
    },
    {
      "cell_type": "markdown",
      "metadata": {
        "id": "QZIccDRSg0pr"
      },
      "source": [
        "### The actual training"
      ]
    },
    {
      "cell_type": "code",
      "execution_count": 15,
      "metadata": {
        "id": "5ZubyhiCg0pr",
        "outputId": "057aa5c8-4cc1-4728-ef30-a7885719adac",
        "colab": {
          "base_uri": "https://localhost:8080/"
        }
      },
      "outputs": [
        {
          "output_type": "stream",
          "name": "stdout",
          "text": [
            "mean reward: 26.840\n",
            "mean reward: 50.560\n",
            "mean reward: 51.760\n",
            "mean reward: 71.900\n",
            "mean reward: 100.770\n",
            "mean reward: 181.370\n",
            "mean reward: 142.700\n",
            "mean reward: 160.550\n",
            "mean reward: 173.270\n",
            "mean reward: 103.970\n",
            "mean reward: 110.600\n",
            "mean reward: 129.740\n",
            "mean reward: 169.070\n",
            "mean reward: 94.470\n",
            "mean reward: 138.880\n",
            "mean reward: 397.300\n",
            "mean reward: 400.480\n",
            "mean reward: 289.210\n",
            "mean reward: 121.210\n",
            "mean reward: 427.990\n",
            "mean reward: 119.930\n",
            "mean reward: 226.050\n",
            "mean reward: 821.030\n",
            "You Win!\n"
          ]
        }
      ],
      "source": [
        "for i in range(100):\n",
        "    rewards = [train_on_session(*generate_session(env)) for _ in range(100)]  # generate new sessions\n",
        "\n",
        "    print(\"mean reward: %.3f\" % (np.mean(rewards)))\n",
        "\n",
        "    if np.mean(rewards) > 500:\n",
        "        print(\"You Win!\")  # but you can train even further\n",
        "        break"
      ]
    },
    {
      "cell_type": "markdown",
      "metadata": {
        "id": "XSlqDRfOg0pr"
      },
      "source": [
        "### Results & video"
      ]
    },
    {
      "cell_type": "code",
      "execution_count": 16,
      "metadata": {
        "id": "t-fQj6REg0pr",
        "outputId": "c23e39a9-d955-42ae-c296-7222e456ae47",
        "colab": {
          "base_uri": "https://localhost:8080/"
        }
      },
      "outputs": [
        {
          "output_type": "stream",
          "name": "stderr",
          "text": [
            "/usr/local/lib/python3.12/dist-packages/moviepy/config_defaults.py:47: SyntaxWarning: invalid escape sequence '\\P'\n",
            "  IMAGEMAGICK_BINARY = r\"C:\\Program Files\\ImageMagick-6.8.8-Q16\\magick.exe\"\n"
          ]
        }
      ],
      "source": [
        "# Record sessions\n",
        "\n",
        "from gymnasium.wrappers import RecordVideo\n",
        "\n",
        "with gym.make(\"CartPole-v1\", render_mode=\"rgb_array\") as env, RecordVideo(\n",
        "    env=env, video_folder=\"./videos\"\n",
        ") as env_monitor:\n",
        "    sessions = [generate_session(env_monitor) for _ in range(10)]\n"
      ]
    },
    {
      "cell_type": "code",
      "execution_count": 17,
      "metadata": {
        "id": "_45p9BLTg0pr",
        "outputId": "5098f628-e33f-4a2e-d405-860ae1fa03c0",
        "colab": {
          "base_uri": "https://localhost:8080/",
          "height": 501
        }
      },
      "outputs": [
        {
          "output_type": "execute_result",
          "data": {
            "text/plain": [
              "<IPython.core.display.HTML object>"
            ],
            "text/html": [
              "\n",
              "<video width=\"640\" height=\"480\" controls>\n",
              "  <source src=\"data:video/mp4;base64,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\" type=\"video/mp4\">\n",
              "</video>\n"
            ]
          },
          "metadata": {},
          "execution_count": 17
        }
      ],
      "source": [
        "# Show video. This may not work in some setups. If it doesn't\n",
        "# work for you, you can download the videos and view them locally.\n",
        "\n",
        "from pathlib import Path\n",
        "from base64 import b64encode\n",
        "from IPython.display import HTML\n",
        "\n",
        "video_paths = sorted([s for s in Path('videos').iterdir() if s.suffix == '.mp4'])\n",
        "video_path = video_paths[-1]  # You can also try other indices\n",
        "\n",
        "if 'google.colab' in sys.modules:\n",
        "    # https://stackoverflow.com/a/57378660/1214547\n",
        "    with video_path.open('rb') as fp:\n",
        "        mp4 = fp.read()\n",
        "    data_url = 'data:video/mp4;base64,' + b64encode(mp4).decode()\n",
        "else:\n",
        "    data_url = str(video_path)\n",
        "\n",
        "HTML(\"\"\"\n",
        "<video width=\"640\" height=\"480\" controls>\n",
        "  <source src=\"{}\" type=\"video/mp4\">\n",
        "</video>\n",
        "\"\"\".format(data_url))"
      ]
    },
    {
      "cell_type": "code",
      "source": [],
      "metadata": {
        "id": "xkiHmYZ6pbHf"
      },
      "execution_count": null,
      "outputs": []
    }
  ],
  "metadata": {
    "kernelspec": {
      "display_name": "Python 3 (ipykernel)",
      "language": "python",
      "name": "python3"
    },
    "language_info": {
      "codemirror_mode": {
        "name": "ipython",
        "version": 3
      },
      "file_extension": ".py",
      "mimetype": "text/x-python",
      "name": "python",
      "nbconvert_exporter": "python",
      "pygments_lexer": "ipython3",
      "version": "3.9.16"
    },
    "colab": {
      "provenance": []
    }
  },
  "nbformat": 4,
  "nbformat_minor": 0
}